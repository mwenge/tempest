{
 "cells": [
  {
   "cell_type": "code",
   "execution_count": null,
   "id": "3bd24896",
   "metadata": {},
   "outputs": [],
   "source": [
    "snd = \"\"\"\n",
    "DI1F:\n",
    "\t.BYTE 8,4,20,0A\n",
    "\t.BYTE 8,4,1,9\n",
    "\t.BYTE 10,0D,4,0C\n",
    "\t.BYTE 0,0\n",
    "DI1A:\n",
    "\t.BYTE 08,4,0,0A\n",
    "\t.BYTE 068,4,0,9\n",
    "\t.BYTE 68,12,0FF,9\n",
    "\t.BYTE 0,0\n",
    "\"\"\""
   ]
  },
  {
   "cell_type": "code",
   "execution_count": null,
   "id": "76092cac",
   "metadata": {},
   "outputs": [],
   "source": [
    "# !ffplay -f s8 -ar 10k -ac 2 ../tempest2k/src/sounds/samples/22\n",
    "!play -t raw -r 10k -e signed-integer -b 8 -c 2 samples/22"
   ]
  }
 ],
 "metadata": {
  "kernelspec": {
   "display_name": "Python 3 (ipykernel)",
   "language": "python",
   "name": "python3"
  },
  "language_info": {
   "codemirror_mode": {
    "name": "ipython",
    "version": 3
   },
   "file_extension": ".py",
   "mimetype": "text/x-python",
   "name": "python",
   "nbconvert_exporter": "python",
   "pygments_lexer": "ipython3",
   "version": "3.10.12"
  }
 },
 "nbformat": 4,
 "nbformat_minor": 5
}
