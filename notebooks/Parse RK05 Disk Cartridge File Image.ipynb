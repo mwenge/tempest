{
 "cells": [
  {
   "cell_type": "markdown",
   "id": "7af43786",
   "metadata": {},
   "source": [
    "### Radix 50 Helper Functions"
   ]
  },
  {
   "cell_type": "code",
   "execution_count": 28,
   "id": "14d5246b",
   "metadata": {},
   "outputs": [
    {
     "name": "stdout",
     "output_type": "stream",
     "text": [
      "1683 True\n",
      "6606 False\n",
      "ABC True\n",
      "DEF True\n"
     ]
    }
   ],
   "source": [
    "import math\n",
    "\n",
    "CHARS = \" ABCDEFGHIJKLMNOPQRSTUVWXYZ$.*0123456789\"\n",
    "\n",
    "def radix50_decode(v):\n",
    "    if v > 63999:\n",
    "        raise Exception(\"Invalid Value\")\n",
    "    c1 = math.floor(v/(40**2))\n",
    "    v2 = v%(40**2)\n",
    "    c2 = math.floor(v2/40)\n",
    "    c3 = v2%40\n",
    "    return CHARS[c1]+CHARS[c2]+CHARS[c3]\n",
    "\n",
    "def radix50_encode(chars):\n",
    "    if len(chars) != 3:\n",
    "        raise Exception(\"Must be 3 characters\")\n",
    "    result = ((CHARS.index(chars[0]) * (40**2)) + \n",
    "              (CHARS.index(chars[1]) * (40)) + \n",
    "              CHARS.index(chars[2]))\n",
    "    return result\n",
    "\n",
    "print(radix50_encode(\"ABC\"),radix50_encode(\"ABC\") == 1683)\n",
    "print(radix50_encode(\"DEF\"),radix50_encode(\"ABC\") == 6606)\n",
    "\n",
    "print(radix50_decode(1683),radix50_decode(1683) == \"ABC\")\n",
    "print(radix50_decode(6606),radix50_decode(6606) == \"DEF\")\n"
   ]
  },
  {
   "cell_type": "markdown",
   "id": "8b12786d",
   "metadata": {},
   "source": [
    "### Parse an rk05 cartridge image file and dump its contents\n",
    "See `AA-PD6PA-TC_RT-11_Volume_and_File_Formats_Manual_Aug91.pdf` in `../materials`"
   ]
  },
  {
   "cell_type": "code",
   "execution_count": 171,
   "id": "33377c97",
   "metadata": {},
   "outputs": [],
   "source": [
    "EOS_MARKER = 0x0800\n",
    "EMPTY = 0x0200\n",
    "TENTATIVE = 0x0100\n",
    "\n",
    "rk1 = open(\"rk1.rk05\",'rb')\n",
    "header = rk1.read(0xc00)\n",
    "no_segments = int.from_bytes(rk1.read(2), \"little\")\n",
    "segment_no = int.from_bytes(rk1.read(2), \"little\")\n",
    "segment_highest = int.from_bytes(rk1.read(2), \"little\")\n",
    "extra_bytes = int.from_bytes(rk1.read(2), \"little\")\n",
    "start_block = int.from_bytes(rk1.read(2), \"little\") # blocks are 512 bytes\n",
    "\n",
    "segment_header = [\n",
    "    no_segments,\n",
    "    segment_no,\n",
    "    segment_highest,\n",
    "    extra_bytes,\n",
    "    start_block\n",
    "]\n",
    "entries = []\n",
    "while True:\n",
    "    status_word = int.from_bytes(rk1.read(2), \"little\")\n",
    "    if not status_word or status_word == EOS_MARKER:\n",
    "        break\n",
    "        \n",
    "    first_three_chars = radix50_decode(int.from_bytes(rk1.read(2), \"little\"))\n",
    "    second_three_chars = radix50_decode(int.from_bytes(rk1.read(2), \"little\"))\n",
    "    third_three_chars = radix50_decode(int.from_bytes(rk1.read(2), \"little\"))\n",
    "    no_octal_blocks = int.from_bytes(rk1.read(2), \"little\")\n",
    "    reserved = int.from_bytes(rk1.read(2), \"little\")\n",
    "    file_date = int.from_bytes(rk1.read(2), \"little\")\n",
    "    \n",
    "    entries += [[\n",
    "        status_word,\n",
    "        first_three_chars,\n",
    "        second_three_chars,\n",
    "        third_three_chars,\n",
    "        no_octal_blocks,\n",
    "        reserved,\n",
    "        file_date\n",
    "    ]]\n",
    "#print(\"segment header\",segment_header)\n",
    "\n",
    "rk1.seek(start_block * 512)\n",
    "for entry in entries:\n",
    "    #print(\"entry\", entry)\n",
    "    file_name = ''.join(entry[1:3])+'.'+entry[3]\n",
    "    file_length = entry[4] * 512\n",
    "    file_data = rk1.read(file_length)\n",
    "    if entry[0] == EMPTY or entry[0] == TENTATIVE:\n",
    "        file_name += \"_UNUSED\"\n",
    "        \n",
    "    #print(file_name,file_data[:10],hex(rk1.tell()))\n",
    "    open(f\"rk1/{file_name}\",'wb').write(file_data)\n",
    "    "
   ]
  },
  {
   "cell_type": "markdown",
   "id": "9e4101ec",
   "metadata": {},
   "source": [
    "### Create an rk05 image file with the tempest source files"
   ]
  },
  {
   "cell_type": "code",
   "execution_count": 154,
   "id": "38e398df",
   "metadata": {},
   "outputs": [
    {
     "name": "stdout",
     "output_type": "stream",
     "text": [
      "Cloning into 'tempest'...\n",
      "remote: Enumerating objects: 45, done.\u001b[K\n",
      "remote: Counting objects: 100% (45/45), done.\u001b[K\n",
      "remote: Compressing objects: 100% (36/36), done.\u001b[K\n",
      "remote: Total 45 (delta 8), reused 45 (delta 8), pack-reused 0 (from 0)\u001b[K\n",
      "Receiving objects: 100% (45/45), 174.01 KiB | 2.49 MiB/s, done.\n",
      "Resolving deltas: 100% (8/8), done.\n"
     ]
    }
   ],
   "source": [
    "!git clone https://github.com/historicalsource/tempest"
   ]
  },
  {
   "cell_type": "code",
   "execution_count": 169,
   "id": "f75f35e4",
   "metadata": {},
   "outputs": [
    {
     "data": {
      "text/plain": [
       "585728"
      ]
     },
     "execution_count": 169,
     "metadata": {},
     "output_type": "execute_result"
    }
   ],
   "source": [
    "import os\n",
    "\n",
    "BLOCK_LENGTH = 512\n",
    "FILES_START = 0x4c00\n",
    "word = lambda x: (x).to_bytes(2,\"little\")\n",
    "\n",
    "# Read in each source file from the git repo we cloned\n",
    "SRC_FOLDER = \"tempest\"\n",
    "files_to_write = []\n",
    "for file_name in os.listdir(SRC_FOLDER):\n",
    "    if \".git\" in file_name:\n",
    "        continue\n",
    "    data = open(SRC_FOLDER+'/'+file_name,'rb').read().strip().strip(b'\\x00')\n",
    "    files_to_write += [(file_name,data,len(data))]\n",
    "\n",
    "# Copy in the home block header from another disk image\n",
    "rk1 = open(\"rk1.rk05\",'rb')\n",
    "header = rk1.read(0xc00)\n",
    "\n",
    "# Header for the directory entry\n",
    "dir_entry = word(16) + word(0) + word(1) + word(0) + word(38)\n",
    "# The file data for the main part of the disk\n",
    "file_data = b''\n",
    "\n",
    "# Write a directory entry for each file and append its zero-padded data\n",
    "# to file_data for writing later\n",
    "for (filename,data,file_len) in files_to_write:\n",
    "    #filetype\n",
    "    dir_entry += word(0x0400)\n",
    "    \n",
    "    #filename\n",
    "    filename = filename.split('.')\n",
    "    trio1 = filename[0][:3].ljust(3)\n",
    "    trio2 = filename[0][3:].ljust(3)\n",
    "    trio3 = filename[1].ljust(3)\n",
    "    dir_entry += word(radix50_encode(trio1))\n",
    "    dir_entry += word(radix50_encode(trio2))\n",
    "    dir_entry += word(radix50_encode(trio3))\n",
    "\n",
    "    # No of blocks used by file\n",
    "    blocks = math.floor(file_len/BLOCK_LENGTH) + 1\n",
    "    dir_entry += word(blocks)\n",
    "    \n",
    "    #reserved\n",
    "    dir_entry += word(0)\n",
    "    #filedate\n",
    "    dir_entry += word(0)\n",
    "\n",
    "    # add the file data\n",
    "    padding = b'\\x00' * ((blocks*BLOCK_LENGTH) - file_len)\n",
    "    file_data += data + padding\n",
    "\n",
    "# Add the end segment to the end of the directory structure\n",
    "dir_entry += word(0x0800)\n",
    "\n",
    "# Padding for the directory block\n",
    "total_so_far = len(header + dir_entry)\n",
    "dir_entry_padding = b'\\x00' * (FILES_START - total_so_far)\n",
    "\n",
    "# Padding for the main block\n",
    "main_data = header + dir_entry + dir_entry_padding + file_data\n",
    "#main_padding = b'\\x00' * (0x261200 - len(main_data))\n",
    "\n",
    "# Write everything to our image file\n",
    "open(\"tempest_original.rk05\",'wb').write(main_data)\n",
    "\n",
    "#!xxd tempest_original.rk05"
   ]
  },
  {
   "cell_type": "code",
   "execution_count": null,
   "id": "421a7725",
   "metadata": {},
   "outputs": [],
   "source": [
    "\n",
    "\n",
    "\n",
    "\n",
    "\n",
    "\n",
    "\n",
    "\n",
    "\n",
    "\n",
    "\n"
   ]
  }
 ],
 "metadata": {
  "kernelspec": {
   "display_name": "Python 3 (ipykernel)",
   "language": "python",
   "name": "python3"
  },
  "language_info": {
   "codemirror_mode": {
    "name": "ipython",
    "version": 3
   },
   "file_extension": ".py",
   "mimetype": "text/x-python",
   "name": "python",
   "nbconvert_exporter": "python",
   "pygments_lexer": "ipython3",
   "version": "3.10.12"
  }
 },
 "nbformat": 4,
 "nbformat_minor": 5
}
