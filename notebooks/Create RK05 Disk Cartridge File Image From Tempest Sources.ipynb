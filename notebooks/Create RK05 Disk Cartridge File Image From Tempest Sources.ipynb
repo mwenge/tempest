{
 "cells": [
  {
   "cell_type": "markdown",
   "id": "f7ce6521",
   "metadata": {},
   "source": [
    "# Create an RK05 Disk of Tempest Sources"
   ]
  },
  {
   "cell_type": "markdown",
   "id": "9e4101ec",
   "metadata": {},
   "source": [
    "### Create an rk05 image file with the tempest source files"
   ]
  },
  {
   "cell_type": "code",
   "execution_count": 154,
   "id": "38e398df",
   "metadata": {},
   "outputs": [
    {
     "name": "stdout",
     "output_type": "stream",
     "text": [
      "Cloning into 'tempest'...\n",
      "remote: Enumerating objects: 45, done.\u001b[K\n",
      "remote: Counting objects: 100% (45/45), done.\u001b[K\n",
      "remote: Compressing objects: 100% (36/36), done.\u001b[K\n",
      "remote: Total 45 (delta 8), reused 45 (delta 8), pack-reused 0 (from 0)\u001b[K\n",
      "Receiving objects: 100% (45/45), 174.01 KiB | 2.49 MiB/s, done.\n",
      "Resolving deltas: 100% (8/8), done.\n"
     ]
    }
   ],
   "source": [
    "!git clone https://github.com/historicalsource/tempest"
   ]
  },
  {
   "cell_type": "code",
   "execution_count": 11,
   "id": "eb0b5d1a",
   "metadata": {},
   "outputs": [],
   "source": [
    "from rt11_utils import create_disk_from_files\n",
    "create_disk_from_files(\"tempest\", \"tempest_original.rk05\", \"MAC\")"
   ]
  },
  {
   "cell_type": "code",
   "execution_count": null,
   "id": "421a7725",
   "metadata": {},
   "outputs": [],
   "source": [
    "\n",
    "\n",
    "\n",
    "\n",
    "\n",
    "\n",
    "\n",
    "\n",
    "\n",
    "\n",
    "\n"
   ]
  }
 ],
 "metadata": {
  "kernelspec": {
   "display_name": "Python 3 (ipykernel)",
   "language": "python",
   "name": "python3"
  },
  "language_info": {
   "codemirror_mode": {
    "name": "ipython",
    "version": 3
   },
   "file_extension": ".py",
   "mimetype": "text/x-python",
   "name": "python",
   "nbconvert_exporter": "python",
   "pygments_lexer": "ipython3",
   "version": "3.10.12"
  }
 },
 "nbformat": 4,
 "nbformat_minor": 5
}
