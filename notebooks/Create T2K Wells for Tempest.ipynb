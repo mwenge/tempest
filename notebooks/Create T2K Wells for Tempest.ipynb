{
 "cells": [
  {
   "cell_type": "markdown",
   "id": "656f792f",
   "metadata": {},
   "source": [
    "# Create T2K Wells"
   ]
  },
  {
   "cell_type": "code",
   "execution_count": 2,
   "id": "0fe3b3e7",
   "metadata": {},
   "outputs": [
    {
     "data": {
      "text/plain": [
       "31"
      ]
     },
     "execution_count": 2,
     "metadata": {},
     "output_type": "execute_result"
    }
   ],
   "source": [
    "0x1F"
   ]
  },
  {
   "cell_type": "code",
   "execution_count": 143,
   "id": "0b1a313b",
   "metadata": {},
   "outputs": [],
   "source": [
    "def scale(x,mid,factor):\n",
    "    x -= mid\n",
    "    x *= factor\n",
    "    x += mid\n",
    "    return x\n",
    "\n",
    "def getCentre(xs,ys):\n",
    "    x_mid = int((max(xs) + min(xs))/2)\n",
    "    y_mid = int((max(ys) + min(ys))/2)\n",
    "    return (x_mid,y_mid)"
   ]
  },
  {
   "cell_type": "code",
   "execution_count": 309,
   "id": "1b8baea1",
   "metadata": {},
   "outputs": [],
   "source": [
    "from pylab import *\n",
    "from well_graphs import create3DVertices,makeFullGraph,create2DVertices\n",
    "import math\n",
    "\n",
    "def to_tempest_bytes(vs,nm,open_closed):\n",
    "    xs = [(vs[i]) for i in range(0,len(vs),2)]\n",
    "    ys = [(vs[i]) for i in range(1,len(vs),2)]\n",
    "\n",
    "    lxs = len(xs)\n",
    "    if lxs < 16:\n",
    "        print(nm,lxs)\n",
    "        plt.scatter(xs,ys)\n",
    "        show()\n",
    "\n",
    "    # Make sure we're starting from at least origin 10 on both axes\n",
    "    min_x = min(xs)\n",
    "    if min_x < 0:\n",
    "        xs = [x + abs(min_x) + 10 for x in xs]\n",
    "\n",
    "    min_y = min(ys)\n",
    "    if min_y < 0:\n",
    "        ys = [y + abs(min_y) + 10 for y in ys]\n",
    "\n",
    "    # Invert the Y values so oriented correctly.\n",
    "    # NOTE: the arrays must run clockwise for the claw to be\n",
    "    # oriented correctly!\n",
    "    max_y = max(ys)\n",
    "    ys = [max_y - y for y in ys]\n",
    "\n",
    "    # Get the centre of the figure\n",
    "    centre_x,centre_y = getCentre(xs,ys)\n",
    "    # Centre of 255x255 figure\n",
    "    screen_centre_x = 128\n",
    "    screen_centre_y = 128\n",
    "    # Move the figure to the centre of a 255x255 canvas\n",
    "    x_offset = screen_centre_x - centre_x\n",
    "    y_offset = screen_centre_y - centre_y\n",
    "    xs = [x + x_offset for x in xs]\n",
    "    ys = [y + y_offset for y in ys]\n",
    "    \n",
    "    \n",
    "    # Scale up if required\n",
    "    x_dim = max(xs) - min(xs)\n",
    "    y_dim = max(ys) - min(ys)\n",
    "    max_dim = max([x_dim,y_dim])\n",
    "    scale_dim = math.floor((0xF0 / max_dim))\n",
    "    xs = [scale(x,screen_centre_x,scale_dim) for x in xs]\n",
    "    ys = [scale(y,screen_centre_y,scale_dim) for y in ys]\n",
    "\n",
    "\n",
    "    # Truncate if necessary\n",
    "    if lxs > 16:\n",
    "        xs = xs[:16]\n",
    "        ys = ys[:16]\n",
    "        \n",
    "    # In order for the claw to orient correctly we need to order the arrays\n",
    "    # so that we start with the highest x value.\n",
    "    #if open_closed:\n",
    "    #    ih = xs.index(max(xs))\n",
    "    #    xs = xs[ih:] + xs[:ih]\n",
    "    #    ys = ys[ih:] + ys[:ih]\n",
    "    #else:\n",
    "    #    xs = list(reversed(xs))\n",
    "    #    ys = list(reversed(ys))\n",
    "        \n",
    "    # Our origin is zero on the bottom left, maximum x and y values are 255\n",
    "    #print(nm)\n",
    "    #plt.scatter(xs,ys)\n",
    "    #show()\n",
    "\n",
    "    # '0BA' is the notation for a value of 0xBA. Anything of 0x80 or above gets\n",
    "    # this leading zero to indicate that it is a two's complement value(?).\n",
    "    return (\".BYTE \"+ ','.join([f\"{x:02x}\" if x < 129 else f\"{x:03x}\" for x in xs]),\n",
    "            \".BYTE \"+ ','.join([f\"{x:02x}\" if x < 129 else f\"{x:03x}\" for x in ys]))\n",
    "\n"
   ]
  },
  {
   "cell_type": "markdown",
   "id": "6197c9a2",
   "metadata": {},
   "source": [
    "Extract the t2k web data into a list"
   ]
  },
  {
   "cell_type": "code",
   "execution_count": 291,
   "id": "4ddd608e",
   "metadata": {},
   "outputs": [
    {
     "data": {
      "text/plain": [
       "37"
      ]
     },
     "execution_count": 291,
     "metadata": {},
     "output_type": "execute_result"
    }
   ],
   "source": [
    "web_name = \"\"\n",
    "web_data = \"\"\n",
    "t2k_webs = []\n",
    "lines = open(\"webs.s\",'r').readlines()\n",
    "for ln in lines:\n",
    "    if \":\" in ln and web_name:\n",
    "        xs = [int(x) for x in ','.join([x for x in web_data.split() if ',' in x]).split(',')]\n",
    "        t2k_webs += [(web_name,xs[:-3],xs[-1])]\n",
    "        web_data = \"\"\n",
    "        web_name = \"\"\n",
    "    if \";\" in ln:\n",
    "        web_name = ln.split(';')[-1].strip()\n",
    "    if \":\" in ln:\n",
    "        continue\n",
    "    web_data += ln\n",
    "xs = [int(x) for x in ','.join([x for x in web_data.split() if ',' in x]).split(',')]\n",
    "t2k_webs += [(web_name,xs[:-3],xs[-1])]\n",
    "len(t2k_webs)"
   ]
  },
  {
   "cell_type": "code",
   "execution_count": 310,
   "id": "bc0461f4",
   "metadata": {},
   "outputs": [],
   "source": [
    "x_bytes = []\n",
    "y_bytes = []\n",
    "open_or_closed = []\n",
    "for nm,vs,open_closed in t2k_webs:\n",
    "    xs,ys = to_tempest_bytes(vs,nm,open_closed)\n",
    "    x_bytes += [xs + \" ; \" + nm]\n",
    "    y_bytes += [ys + \" ; \" + nm]\n",
    "    open_or_closed +=  [(\"0\" if open_closed else \"-1\") + \" ; \" + nm]\n"
   ]
  },
  {
   "cell_type": "markdown",
   "id": "25bbda1c",
   "metadata": {},
   "source": [
    "Get the web order as in t2k."
   ]
  },
  {
   "cell_type": "code",
   "execution_count": 311,
   "id": "3ea16d9f",
   "metadata": {
    "scrolled": true
   },
   "outputs": [
    {
     "name": "stdout",
     "output_type": "stream",
     "text": [
      "NEWLIX:\n",
      ".BYTE 6c,44,1c,08,08,1c,44,6c,094,0bc,0e4,0f8,0f8,0e4,0bc,094 ; circle\n",
      ".BYTE 08,08,08,08,08,44,80,0bc,0f8,0f8,0f8,0f8,0f8,0bc,80,44 ; square\n",
      ".BYTE 08,18,28,38,48,58,68,78,088,098,0a8,0b8,0c8,0d8,0e8,0f8 ; flat plane\n",
      ".BYTE 08,17,26,35,44,53,62,71,08f,09e,0ad,0bc,0cb,0da,0e9,0f8 ; v\n",
      ".BYTE 80,6c,58,44,30,1c,08,30,58,80,0a8,0d0,0f8,0e4,0bc,094 ; triangle\n",
      ".BYTE 08,08,08,08,17,35,53,71,08f,0ad,0cb,0e9,0f8,0f8,0f8,0f8 ; u\n",
      ".BYTE 08,1c,30,44,58,62,6c,76,80,08a,094,0a8,0bc,0d0,0e4,0f8 ; w\n",
      ".BYTE 6f,4d,2b,09,09,2b,4d,6f,091,0b3,0d5,0f7,0f7,0d5,0b3,091 ; dumb-bell\n",
      ".BYTE 12,12,1c,30,44,58,6c,80,094,0a8,0bc,0d0,0e4,0ee,0ee,0ee ; sine wave\n",
      ".BYTE 80,62,26,08,44,08,26,62,80,09e,0da,0f8,0bc,0f8,0da,09e ; clover\n",
      ".BYTE 12,1c,26,30,3a,4e,62,76,08a,09e,0a8,0b2,0bc,0c6,0da,0ee ; parabola\n",
      ".BYTE 68,68,38,08,08,38,68,68,098,098,0c8,0f8,0f8,0c8,098,098 ; cross\n",
      ".BYTE 80,58,30,08,1c,44,6c,80,094,0a8,0bc,0d0,0e4,0f8,0d0,0a8 ; arrowhead\n",
      ".BYTE 0b,18,25,32,3f,4c,59,73,80,08d,0a7,0b4,0c1,0ce,0db,0e8 ; distorted w\n",
      ".BYTE 26,08,08,26,44,53,62,71,08f,09e,0ad,0bc,0da,0f8,0f8,0da ; web16\n",
      ".BYTE 6f,4d,2b,09,09,2b,4d,6f,091,0b3,0d5,0f7,0f7,0d5,0b3,091 ; figure-8\n",
      ".BYTE 102,0ce,09a,66,32,18,18,18,4c,80,0b4,0e8,102,102,102,102 ; lemon\n",
      ".BYTE 08,08,08,08,08,20,38,50,68,80,098,0b0,0c8,0e0,0ec,0f8 ; long wide v\n",
      ".BYTE 2c,14,14,14,2c,44,5c,74,08c,098,0a4,0b0,0c8,0d4,0e0,0ec ; giraffes neck kind of a shape\n",
      ".BYTE 80,62,26,08,44,08,26,62,80,09e,0da,0f8,0bc,0f8,0da,09e ; clover\n",
      ".BYTE 12,1c,26,30,3a,4e,62,76,08a,09e,0a8,0b2,0bc,0c6,0da,0ee ; parabola\n",
      ".BYTE 68,68,38,08,08,38,68,68,098,098,0c8,0f8,0f8,0c8,098,098 ; cross\n",
      ".BYTE 5c,38,26,14,26,4a,6e,092,0b6,0c8,0c8,0da,0da,0ec,0ec,0fe ; wobbly u\n",
      ".BYTE 0b,18,25,32,3f,4c,59,73,80,08d,0a7,0b4,0c1,0ce,0db,0e8 ; distorted w\n",
      ".BYTE 26,08,08,26,44,53,62,71,08f,09e,0ad,0bc,0da,0f8,0f8,0da ; web16\n",
      ".BYTE 68,38,08,20,38,38,68,80,098,0c8,0f8,0c8,0b0,098,80,80 ; tiny star\n",
      ".BYTE 09,09,1a,3c,5e,80,0a2,0c4,0e6,0f7,0f7,0e6,0c4,0a2,80,5e ; big oval\n",
      ".BYTE 08,1c,44,6c,094,0bc,0e4,0f8,0f8,0e4,0d0,0a8,80,58,58,80 ; spiraloid\n",
      ".BYTE 80,58,30,08,1c,30,44,6c,094,0bc,0d0,0e4,0f8,0d0,0a8,0bc ; pentagon\n",
      ".BYTE 08e,08e,80,64,56,48,3a,3a,48,64,80,09c,0aa,0b8,0c6,0d4 ; hook kind of a shape\n",
      ".BYTE 58,30,08,08,08,30,58,80,0a8,0d0,0f8,0f8,0f8,0d0,0d0,0a8 ; tiny nut\n",
      ".BYTE 12,1d,33,49,5f,6a,75,80,08b,096,0a1,0b7,0cd,0e3,0ee,0f9 ; inverted bird shape thang\n",
      ".BYTE 08,30,58,80,0a8,0d0,0f8,0f8,0e4,0bc,094,6c,44,1c,1c,08 ; D\n",
      ".BYTE 12,12,12,12,12,1d,33,49,5f,75,08b,0a1,0b7,0cd,0e3,0f9 ; curved L\n",
      ".BYTE 48,3a,2c,1e,1e,2c,48,64,80,72,72,80,09c,0b8,0d4,0f0 ; diagonal arse shape\n",
      ".BYTE 80,5e,3c,2b,09,2b,3c,5e,80,0a2,0c4,0d5,0f7,0d5,0c4,0a2 ; kind of cats head shaped\n",
      ".BYTE 80,80,6e,4a,38,38,4a,6e,092,0b6,0c8,0c8,0b6,092,092,80 ; teardrop\n",
      ".BYTE 2c,2c,38,38,44,44,50,50,5c,5c,68,80,098,0b0,0c8,0e0 ; crinkly L\n",
      ".BYTE 08,08,1c,44,6c,80,094,0bc,0e4,0f8,0f8,0d0,0a8,80,58,30 ; kiss of death\n",
      ".BYTE 44,1c,44,6c,094,0bc,0e4,0f8,0f8,0e4,0bc,094,6c,44,1c,44 ; backwards C\n",
      ".BYTE 80,80,68,38,08,38,68,80,80,80,098,0c8,0f8,0c8,098,80 ; really diffy tiny star\n",
      ".BYTE 6c,094,094,094,0a8,0bc,0d0,0e4,0f8,0d0,0a8,80,58,30,08,30 ; mouse pointer (diffi)\n",
      "\n",
      "NEWLIZ:\n",
      ".BYTE 0f8,0e4,0bc,094,6c,44,1c,08,08,1c,44,6c,094,0bc,0e4,0f8 ; circle\n",
      ".BYTE 0f8,0bc,80,44,08,08,08,08,08,44,80,0bc,0f8,0f8,0f8,0f8 ; square\n",
      ".BYTE 80,80,80,80,80,80,80,80,80,80,80,80,80,80,80,80 ; flat plane\n",
      ".BYTE 0e9,0cb,0ad,08f,71,53,35,17,17,35,53,71,08f,0ad,0cb,0e9 ; v\n",
      ".BYTE 0f8,0d0,0a8,80,58,30,08,08,08,08,08,08,08,30,80,0d0 ; triangle\n",
      ".BYTE 0da,0bc,09e,80,62,44,35,35,35,35,44,62,80,09e,0bc,0da ; u\n",
      ".BYTE 09e,08a,76,62,4e,62,76,08a,76,62,4e,62,76,08a,09e,0b2 ; w\n",
      ".BYTE 0a2,0b3,0b3,091,6f,4d,4d,5e,5e,4d,4d,6f,091,0b3,0b3,0a2 ; dumb-bell\n",
      ".BYTE 4e,62,76,08a,094,094,08a,76,62,58,58,62,76,08a,09e,0b2 ; sine wave\n",
      ".BYTE 0bc,0f8,0da,09e,80,62,26,08,44,08,26,62,80,09e,0da,0f8 ; clover\n",
      ".BYTE 62,76,08a,09e,0b2,0c6,0d0,0d0,0c6,0b2,09e,08a,76,62,4e,3a ; parabola\n",
      ".BYTE 0f8,0c8,098,098,68,68,38,08,08,38,68,68,098,098,0c8,0f8 ; cross\n",
      ".BYTE 0bc,0d0,0e4,0f8,0d0,80,30,08,30,58,80,0a8,0d0,0f8,0e4,0d0 ; arrowhead\n",
      ".BYTE 0c1,0a7,08d,73,59,3f,25,25,3f,59,59,73,08d,0a7,0c1,0db ; distorted w\n",
      ".BYTE 0da,0bc,09e,80,80,62,44,26,26,44,62,80,80,09e,0bc,0da ; web16\n",
      ".BYTE 091,0b3,0b3,091,6f,4d,4d,6f,091,0b3,0b3,091,6f,4d,4d,6f ; figure-8\n",
      ".BYTE 102,102,102,0e8,0b4,80,4c,18,18,18,32,66,09a,0b4,0ce,0e8 ; lemon\n",
      ".BYTE 0bc,0a4,08c,74,5c,44,44,50,5c,68,74,80,08c,098,0b0,0c8 ; long wide v\n",
      ".BYTE 08,14,2c,44,5c,68,74,80,098,0b0,0c8,0e0,0ec,0ec,0ec,0f8 ; giraffes neck kind of a shape\n",
      ".BYTE 0bc,0f8,0da,09e,80,62,26,08,44,08,26,62,80,09e,0da,0f8 ; clover\n",
      ".BYTE 62,76,08a,09e,0b2,0c6,0d0,0d0,0c6,0b2,09e,08a,76,62,4e,3a ; parabola\n",
      ".BYTE 0f8,0c8,098,098,68,68,38,08,08,38,68,68,098,098,0c8,0f8 ; cross\n",
      ".BYTE 0da,0c8,0a4,80,5c,4a,38,38,4a,6e,80,092,0a4,0b6,0c8,0da ; wobbly u\n",
      ".BYTE 0c1,0a7,08d,73,59,3f,25,25,3f,59,59,73,08d,0a7,0c1,0db ; distorted w\n",
      ".BYTE 0da,0bc,09e,80,80,62,44,26,26,44,62,80,80,09e,0bc,0da ; web16\n",
      ".BYTE 0c8,098,80,80,80,68,38,08,38,68,80,098,0b0,0c8,0e0,0f8 ; tiny star\n",
      ".BYTE 091,6f,4d,3c,2b,2b,2b,3c,4d,6f,091,0b3,0c4,0d5,0d5,0d5 ; big oval\n",
      ".BYTE 58,30,1c,08,08,1c,44,6c,094,0bc,0e4,0f8,0f8,0d0,0a8,094 ; spiraloid\n",
      ".BYTE 0f8,0d0,0a8,80,58,30,08,08,08,08,30,58,80,0a8,0d0,0e4 ; pentagon\n",
      ".BYTE 0fe,0e2,0c6,0aa,09c,08e,72,56,3a,1e,10,10,1e,1e,2c,3a ; hook kind of a shape\n",
      ".BYTE 0f8,0d0,0a8,80,58,30,08,08,08,30,58,80,0a8,0d0,0f8,0f8 ; tiny nut\n",
      ".BYTE 5f,75,80,08b,096,0a1,0ac,0c2,0ac,0a1,096,08b,80,75,5f,49 ; inverted bird shape thang\n",
      ".BYTE 44,44,44,44,44,44,44,6c,094,0bc,0d0,0d0,0bc,094,80,6c ; D\n",
      ".BYTE 0d8,0c2,0ac,096,80,6a,54,49,49,49,49,54,54,49,3e,33 ; curved L\n",
      ".BYTE 0fe,0e2,0c6,0aa,08e,72,64,64,72,56,3a,1e,10,10,1e,2c ; diagonal arse shape\n",
      ".BYTE 0b3,0a2,0c4,0a2,091,80,5e,3c,3c,3c,5e,80,091,0a2,0c4,0a2 ; kind of cats head shaped\n",
      ".BYTE 0fe,0da,0b6,092,6e,4a,26,14,14,26,4a,6e,092,0b6,0c8,0da ; teardrop\n",
      ".BYTE 0f8,0e0,0c8,0b0,098,80,68,50,38,20,08,08,14,14,20,2c ; crinkly L\n",
      ".BYTE 0a8,094,80,6c,58,58,58,6c,80,094,0a8,0bc,0bc,0a8,0bc,0bc ; kiss of death\n",
      ".BYTE 58,30,08,08,1c,30,44,6c,094,0bc,0d0,0e4,0f8,0f8,0d0,0a8 ; backwards C\n",
      ".BYTE 0f8,0c8,098,80,80,80,68,38,08,38,68,80,80,80,098,0c8 ; really diffy tiny star\n",
      ".BYTE 30,58,30,08,30,58,80,0a8,0d0,0f8,0e4,0d0,0bc,0a8,094,094 ; mouse pointer (diffi)\n",
      "\n",
      "HOLRAP:\n",
      ".BYTE 0 ; circle\n",
      ".BYTE 0 ; square\n",
      ".BYTE -1 ; flat plane\n",
      ".BYTE -1 ; v\n",
      ".BYTE 0 ; triangle\n",
      ".BYTE -1 ; u\n",
      ".BYTE -1 ; w\n",
      ".BYTE 0 ; dumb-bell\n",
      ".BYTE -1 ; sine wave\n",
      ".BYTE 0 ; clover\n",
      ".BYTE -1 ; parabola\n",
      ".BYTE 0 ; cross\n",
      ".BYTE 0 ; arrowhead\n",
      ".BYTE -1 ; distorted w\n",
      ".BYTE -1 ; web16\n",
      ".BYTE 0 ; figure-8\n",
      ".BYTE 0 ; lemon\n",
      ".BYTE -1 ; long wide v\n",
      ".BYTE -1 ; giraffes neck kind of a shape\n",
      ".BYTE 0 ; clover\n",
      ".BYTE -1 ; parabola\n",
      ".BYTE 0 ; cross\n",
      ".BYTE -1 ; wobbly u\n",
      ".BYTE -1 ; distorted w\n",
      ".BYTE -1 ; web16\n",
      ".BYTE 0 ; tiny star\n",
      ".BYTE 0 ; big oval\n",
      ".BYTE -1 ; spiraloid\n",
      ".BYTE 0 ; pentagon\n",
      ".BYTE -1 ; hook kind of a shape\n",
      ".BYTE 0 ; tiny nut\n",
      ".BYTE -1 ; inverted bird shape thang\n",
      ".BYTE 0 ; D\n",
      ".BYTE -1 ; curved L\n",
      ".BYTE -1 ; diagonal arse shape\n",
      ".BYTE 0 ; kind of cats head shaped\n",
      ".BYTE 0 ; teardrop\n",
      ".BYTE -1 ; crinkly L\n",
      ".BYTE 0 ; kiss of death\n",
      ".BYTE -1 ; backwards C\n",
      ".BYTE 0 ; really diffy tiny star\n",
      ".BYTE -1 ; mouse pointer (diffi)\n"
     ]
    }
   ],
   "source": [
    "web_order = [\n",
    "\"web5\",\"web11\",\"web1\",\"web2\",\"web9\",\"web3\",\"web12\",\"web7\",\n",
    "\"web13\",\"web4\",\"web14\",\"web10\",\"web15\",\"web6\",\"web16\",\"web8\",\n",
    "\"web18\",\"web19\",\n",
    "\"web20\",\"web4\",\"web14\",\"web10\",\"web17\",\"web6\",\"web16\",\"web22\",\n",
    "\"web24\",\"web23\",\"web27\",\"web25\",\"web21\",\"web28\",\"web29\",\"web30\",\n",
    "\"web32\",\"web33\",\"web34\",\"web35\",\"web36\",\"web37\",\"web26\",\"web31\"\n",
    "]\n",
    "webs = [int(x[3:])-1 for x in web_order]\n",
    "\n",
    "print(\"NEWLIX:\")\n",
    "for i in webs:\n",
    "    print(x_bytes[i])\n",
    "\n",
    "print()\n",
    "print(\"NEWLIZ:\")\n",
    "for i in webs:\n",
    "    print(y_bytes[i])\n",
    "\n",
    "print()\n",
    "print(\"HOLRAP:\")\n",
    "for i in webs:\n",
    "    print(\".BYTE \" + open_or_closed[i])\n",
    "\n"
   ]
  },
  {
   "cell_type": "markdown",
   "id": "1b305591",
   "metadata": {},
   "source": [
    "# Scratchpad"
   ]
  },
  {
   "cell_type": "code",
   "execution_count": null,
   "id": "51c9c2a1",
   "metadata": {},
   "outputs": [],
   "source": [
    "vs = [-3,4,-4,6,-4,8,-3,10,-1,11,1,11,3,10,2,12,2,14,3,16,5,17,7,17,9,16,9,16,9,16,9,16]\n",
    "print(to_tempest_bytes(vs,70,10))\n",
    "\n",
    "vs = [-1,16,-3,15,-3,13,-3,11,-1,9,1,8,3,7,5,6,7,4,8,2,9,0,10,-2,12,-3,14,-3,14,-3,-1,-16]\n",
    "print(to_tempest_bytes(vs,40,10))\n",
    "len(vs)\n"
   ]
  },
  {
   "cell_type": "code",
   "execution_count": 50,
   "id": "7b500dfe",
   "metadata": {},
   "outputs": [
    {
     "data": {
      "image/png": "[encoded data removed]",
      "text/plain": [
       "<Figure size 504x504 with 1 Axes>"
      ]
     },
     "metadata": {
      "needs_background": "light"
     },
     "output_type": "display_data"
    }
   ],
   "source": [
    "# Show in a graph\n",
    "vertices = list(zip(xs,ys))\n",
    "x,y,z = create3DVertices(vertices,-1)\n",
    "makeFullGraph(x,y,z, f\"test.png\", \"test\")\n"
   ]
  },
  {
   "cell_type": "code",
   "execution_count": null,
   "id": "88bb50ab",
   "metadata": {},
   "outputs": [],
   "source": [
    "\n",
    "\n",
    "\n",
    "\n",
    "\n",
    "\n",
    "\n",
    "\n",
    "\n",
    "\n",
    "\n",
    "\n",
    "\n",
    "\n",
    "\n",
    "\n",
    "\n",
    "\n",
    "\n",
    "\n",
    "\n"
   ]
  }
 ],
 "metadata": {
  "kernelspec": {
   "display_name": "Python 3 (ipykernel)",
   "language": "python",
   "name": "python3"
  },
  "language_info": {
   "codemirror_mode": {
    "name": "ipython",
    "version": 3
   },
   "file_extension": ".py",
   "mimetype": "text/x-python",
   "name": "python",
   "nbconvert_exporter": "python",
   "pygments_lexer": "ipython3",
   "version": "3.10.12"
  }
 },
 "nbformat": 4,
 "nbformat_minor": 5
}
