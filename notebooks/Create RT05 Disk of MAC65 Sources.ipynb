{
 "cells": [
  {
   "cell_type": "markdown",
   "id": "de5020bd",
   "metadata": {},
   "source": [
    "# Create RT05 Disk of MAC65 Sources"
   ]
  },
  {
   "cell_type": "code",
   "execution_count": 2,
   "id": "1aad6e9b",
   "metadata": {},
   "outputs": [
    {
     "data": {
      "text/html": [
       "<style>.container { width:60% !important; }</style>"
      ],
      "text/plain": [
       "<IPython.core.display.HTML object>"
      ]
     },
     "metadata": {},
     "output_type": "display_data"
    }
   ],
   "source": [
    "from IPython.display import display, HTML\n",
    "display(HTML(\"<style>.container { width:60% !important; }</style>\"))"
   ]
  },
  {
   "cell_type": "code",
   "execution_count": 8,
   "id": "2b8af5e3",
   "metadata": {},
   "outputs": [],
   "source": [
    "from rt11_utils import create_disk_from_files\n",
    "create_disk_from_files(\"mac65_src\", \"mac65.rk05\")\n",
    "!cp mac65.rk05 ../atari_build/"
   ]
  },
  {
   "cell_type": "code",
   "execution_count": null,
   "id": "e5b2a120",
   "metadata": {},
   "outputs": [],
   "source": [
    "```\n",
    "R MACRO\n",
    "RK1:OPC65=RK1:RTPAR5,RK1:OPC65\n",
    "```"
   ]
  },
  {
   "cell_type": "code",
   "execution_count": null,
   "id": "0c2aaf4f",
   "metadata": {},
   "outputs": [],
   "source": [
    "```\n",
    "R MACRO\n",
    "RK1:RTEXE5=RK1:RTPAR5,RK1:RTEXEC\n",
    "\n",
    "RK1:MACRO5=RK1:MACRO5\n",
    "\n",
    "RK1:RTEXE5=RK1:RTPAR5,RK1:RTEXEC\n",
    "RK1:MACRO5=RK1:MACRO5\n",
    "RK1:MAC65=RK1:MAC65\n",
    "```\n",
    "\n",
    "```\n",
    "R MAC65\n",
    "RK1:MAC65=RK1:MAC65,RK1:RTPAR5\n",
    "```"
   ]
  },
  {
   "cell_type": "code",
   "execution_count": null,
   "id": "421a7725",
   "metadata": {},
   "outputs": [],
   "source": [
    "\n",
    "\n",
    "\n",
    "\n",
    "\n",
    "\n",
    "\n",
    "\n",
    "\n",
    "\n",
    "\n"
   ]
  }
 ],
 "metadata": {
  "kernelspec": {
   "display_name": "Python 3 (ipykernel)",
   "language": "python",
   "name": "python3"
  },
  "language_info": {
   "codemirror_mode": {
    "name": "ipython",
    "version": 3
   },
   "file_extension": ".py",
   "mimetype": "text/x-python",
   "name": "python",
   "nbconvert_exporter": "python",
   "pygments_lexer": "ipython3",
   "version": "3.10.12"
  }
 },
 "nbformat": 4,
 "nbformat_minor": 5
}
