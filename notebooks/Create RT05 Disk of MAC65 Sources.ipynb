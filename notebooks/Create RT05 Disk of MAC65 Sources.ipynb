{
 "cells": [
  {
   "cell_type": "markdown",
   "id": "de5020bd",
   "metadata": {},
   "source": [
    "# Create RT05 Disk of MAC65 Sources"
   ]
  },
  {
   "cell_type": "code",
   "execution_count": 2,
   "id": "1aad6e9b",
   "metadata": {},
   "outputs": [
    {
     "data": {
      "text/html": [
       "<style>.container { width:60% !important; }</style>"
      ],
      "text/plain": [
       "<IPython.core.display.HTML object>"
      ]
     },
     "metadata": {},
     "output_type": "display_data"
    }
   ],
   "source": [
    "from IPython.display import display, HTML\n",
    "display(HTML(\"<style>.container { width:60% !important; }</style>\"))"
   ]
  },
  {
   "cell_type": "code",
   "execution_count": 2,
   "id": "2b8af5e3",
   "metadata": {},
   "outputs": [],
   "source": [
    "from rt11_utils import create_disk_from_files"
   ]
  },
  {
   "cell_type": "code",
   "execution_count": 5,
   "id": "57cd608e",
   "metadata": {},
   "outputs": [],
   "source": [
    "create_disk_from_files(\"../atari_tools/e2_tools/\", \"e2.rk05\")\n",
    "create_disk_from_files(\"../atari_tools/e3_tools/\", \"e3.rk05\")\n",
    "create_disk_from_files(\"../atari_tools/e4_tools/\", \"e4.rk05\")\n",
    "create_disk_from_files(\"../atari_tools/e6/\", \"e6.rk05\")\n",
    "create_disk_from_files(\"../atari_tools/f8/\", \"f8.rk05\")"
   ]
  },
  {
   "cell_type": "code",
   "execution_count": null,
   "id": "421a7725",
   "metadata": {},
   "outputs": [],
   "source": [
    "\n",
    "\n",
    "\n",
    "\n",
    "\n",
    "\n",
    "\n",
    "\n",
    "\n",
    "\n",
    "\n"
   ]
  }
 ],
 "metadata": {
  "kernelspec": {
   "display_name": "Python 3 (ipykernel)",
   "language": "python",
   "name": "python3"
  },
  "language_info": {
   "codemirror_mode": {
    "name": "ipython",
    "version": 3
   },
   "file_extension": ".py",
   "mimetype": "text/x-python",
   "name": "python",
   "nbconvert_exporter": "python",
   "pygments_lexer": "ipython3",
   "version": "3.10.12"
  }
 },
 "nbformat": 4,
 "nbformat_minor": 5
}
