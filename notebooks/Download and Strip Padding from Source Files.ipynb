{
 "cells": [
  {
   "cell_type": "markdown",
   "id": "9e4101ec",
   "metadata": {},
   "source": [
    "### Create an rk05 image file with the tempest source files"
   ]
  },
  {
   "cell_type": "code",
   "execution_count": 3,
   "id": "38e398df",
   "metadata": {},
   "outputs": [
    {
     "name": "stdout",
     "output_type": "stream",
     "text": [
      "fatal: destination path 'tempest' already exists and is not an empty directory.\r\n"
     ]
    }
   ],
   "source": [
    "!git clone https://github.com/historicalsource/tempest"
   ]
  },
  {
   "cell_type": "code",
   "execution_count": 4,
   "id": "f75f35e4",
   "metadata": {},
   "outputs": [],
   "source": [
    "import os\n",
    "\n",
    "# Read in each source file from the git repo we cloned\n",
    "SRC_FOLDER = \"tempest\"\n",
    "OUTPUT_FOLDER = \"../src/\"\n",
    "files_to_write = []\n",
    "for file_name in os.listdir(SRC_FOLDER):\n",
    "    if \".git\" in file_name:\n",
    "        continue\n",
    "    data = open(SRC_FOLDER+'/'+file_name,'rb').read().strip().strip(b'\\x00')\n",
    "    open(f\"{OUTPUT_FOLDER}{file_name}\",'wb').write(data)\n",
    "\n"
   ]
  },
  {
   "cell_type": "code",
   "execution_count": null,
   "id": "421a7725",
   "metadata": {},
   "outputs": [],
   "source": [
    "\n",
    "\n",
    "\n",
    "\n",
    "\n",
    "\n",
    "\n",
    "\n",
    "\n",
    "\n",
    "\n"
   ]
  }
 ],
 "metadata": {
  "kernelspec": {
   "display_name": "Python 3 (ipykernel)",
   "language": "python",
   "name": "python3"
  },
  "language_info": {
   "codemirror_mode": {
    "name": "ipython",
    "version": 3
   },
   "file_extension": ".py",
   "mimetype": "text/x-python",
   "name": "python",
   "nbconvert_exporter": "python",
   "pygments_lexer": "ipython3",
   "version": "3.10.12"
  }
 },
 "nbformat": 4,
 "nbformat_minor": 5
}
