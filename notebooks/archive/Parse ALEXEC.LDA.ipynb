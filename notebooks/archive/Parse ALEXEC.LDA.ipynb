{
 "cells": [
  {
   "cell_type": "markdown",
   "id": "edb16860",
   "metadata": {},
   "source": [
    "# Extracting ROMs from ALEXEC.LDA"
   ]
  },
  {
   "cell_type": "markdown",
   "id": "5a2811b8",
   "metadata": {},
   "source": [
    "There are ROMs in them there hills. Here we extract the ROMs from ALEXEC.LDA to find what version of Tempest is in there."
   ]
  },
  {
   "cell_type": "code",
   "execution_count": 48,
   "id": "484bb613",
   "metadata": {},
   "outputs": [
    {
     "data": {
      "text/html": [
       "<style>.container { width:80% !important; }</style>"
      ],
      "text/plain": [
       "<IPython.core.display.HTML object>"
      ]
     },
     "metadata": {},
     "output_type": "display_data"
    }
   ],
   "source": [
    "from IPython.display import display, HTML\n",
    "display(HTML(\"<style>.container { width:80% !important; }</style>\"))"
   ]
  },
  {
   "cell_type": "markdown",
   "id": "71783b48",
   "metadata": {},
   "source": [
    "The file `ALEXEC.LDA` is in `LDA` format(!). This is chunks of data with a header and checksum.\n",
    "\n",
    "For example (all words are little-endian):\n",
    "```\n",
    "Sentinel: 0x0100\n",
    "Length: 0x0B00\n",
    "Load Address: 0x0090\n",
    "Data: 0x0102030405\n",
    "Checksum: 0x09\n",
    "```\n",
    "\n",
    "You keep reading the chunks above until there are none left! \n",
    "\n",
    "See http://www.bitsavers.org/pdf/dec/pdp11/rt11/v5.6_Aug91/AA-PD6PA-TC_RT-11_Volume_and_File_Formats_Manual_Aug91.pdf"
   ]
  },
  {
   "cell_type": "code",
   "execution_count": 73,
   "id": "01a89558",
   "metadata": {},
   "outputs": [],
   "source": [
    "word = lambda x: (x).to_bytes(2,\"little\")\n",
    "read_word = lambda x: int.from_bytes(x,\"little\")\n",
    "\n",
    "BLOCK_HEADER = b'\\x01\\x00'\n",
    "LDA_END = 0x0000\n",
    "\n",
    "al = open(\"tempest/ALEXEC.LDA\",'rb')\n",
    "blocks = []\n",
    "while True:\n",
    "    sentinel = al.read(2)\n",
    "    if sentinel != BLOCK_HEADER:\n",
    "        raise Exception(\"Block Header Expected\")\n",
    "    \n",
    "    len_data = read_word(al.read(2)) - 6\n",
    "    if len_data == LDA_END:\n",
    "        break\n",
    "    addr = read_word(al.read(2))\n",
    "    data = al.read(len_data)\n",
    "    checksum = al.read(1)\n",
    "    blocks += [(hex(addr),addr,len(data),data)]\n",
    "        \n",
    "output = b'\\x00' * 0xFFFF\n",
    "output_bytes = bytearray(output)\n",
    "for hex_addr,addr,len_data,data in blocks:\n",
    "    output_bytes[addr:addr+len_data] = data\n"
   ]
  },
  {
   "cell_type": "markdown",
   "id": "70d22ee5",
   "metadata": {},
   "source": [
    "## Running Tempest 'Version: 2'"
   ]
  },
  {
   "cell_type": "code",
   "execution_count": 74,
   "id": "39fdff64",
   "metadata": {},
   "outputs": [
    {
     "data": {
      "text/plain": [
       "2048"
      ]
     },
     "execution_count": 74,
     "metadata": {},
     "output_type": "execute_result"
    }
   ],
   "source": [
    "\n",
    "\"\"\"\n",
    "Project #: 28903\tProject Programmer: Dave Theurer\tProject Leader: Morgan Hoff\n",
    "\n",
    "Documentation Disk(s): 36A,36B,36C\tProject Name: Tempest\tDate: 11-25-81\tVersion: 2\n",
    "\n",
    "\n",
    "Verification control filename: 002X2.DAT\tVerification file: ALEXEC.LDA\n",
    "\n",
    "\n",
    "Part #\tPCB Loc.\tDescription\t\tStart Addr\tGeneric name\tPart Size\tBits Used\n",
    "------\t--------\t-----------\t\t----------\t------------\t---------\t---------\n",
    "\n",
    "136002-123\tN3\tVect.Gen.Erom\t\t3000\t\t2716\t\t2Kx8\t\t0-7\n",
    "136002-124\tR3\tVect.Gen.Erom\t\t3800\t\t2716\t\t2Kx8\t\t0-7\n",
    "\n",
    "136002-113\tD1\tProgram Erom\t\t9000\t\t2716\t\t2Kx8\t\t0-7\n",
    "136002-114\tE1\tProgram Erom\t\t9800\t\t2716\t\t2Kx8\t\t0-7\n",
    "136002-115\tF1\tProgram Erom\t\tA000\t\t2716\t\t2Kx8\t\t0-7\n",
    "136002-216\tH1\tProgram Erom\t\tA800\t\t2716\t\t2Kx8\t\t0-7\n",
    "136002-217\tJ1\tProgram Erom\t\tB000\t\t2716\t\t2Kx8\t\t0-7\n",
    "136002-118\tK1\tProgram Erom\t\tB800\t\t2716\t\t2Kx8\t\t0-7\n",
    "136002-119\tL/M1\tProgram Erom\t\tC000\t\t2716\t\t2Kx8\t\t0-7\n",
    "136002-120\tN1\tProgram Erom\t\tC800\t\t2716\t\t2Kx8\t\t0-7\n",
    "136002-121\tP1\tProgram Erom\t\tD000\t\t2716\t\t2Kx8\t\t0-7\n",
    "136002-222\tR1\tProgram Erom\t\tD800\t\t2716\t\t2Kx8\t\t0-7\n",
    "\"\"\"\n",
    "OUT_DIR=\"ALEXEC.LDA Roms/tempest2/\"\n",
    "open(f\"{OUT_DIR}136002-123.np3\",'wb').write(bytes(output_bytes[0x3000:0x3800]))\n",
    "open(f\"{OUT_DIR}136002-124.r3\",'wb').write(bytes(output_bytes[0x3800:0x4000]))\n",
    "\n",
    "open(f\"{OUT_DIR}136002-113.d1\",'wb').write(bytes(output_bytes[0x9000:0x9800]))\n",
    "open(f\"{OUT_DIR}136002-114.e1\",'wb').write(bytes(output_bytes[0x9800:0xA000]))\n",
    "open(f\"{OUT_DIR}136002-115.f1\",'wb').write(bytes(output_bytes[0xA000:0xA800]))\n",
    "\n",
    "open(f\"{OUT_DIR}136002-216.h1\",'wb').write(bytes(output_bytes[0xA800:0xB000]))\n",
    "open(f\"{OUT_DIR}136002-116.h1\",'wb').write(bytes(output_bytes[0xA800:0xB000]))\n",
    "\n",
    "open(f\"{OUT_DIR}136002-217.j1\",'wb').write(bytes(output_bytes[0xB000:0xB800]))\n",
    "open(f\"{OUT_DIR}136002-118.k1\",'wb').write(bytes(output_bytes[0xB800:0xC000]))\n",
    "open(f\"{OUT_DIR}136002-119.lm1\",'wb').write(bytes(output_bytes[0xC000:0xC800]))\n",
    "open(f\"{OUT_DIR}136002-120.mn1\",'wb').write(bytes(output_bytes[0xC800:0xD000]))\n",
    "open(f\"{OUT_DIR}136002-121.p1\",'wb').write(bytes(output_bytes[0xD000:0xD800]))\n",
    "open(f\"{OUT_DIR}136002-222.r1\",'wb').write(bytes(output_bytes[0xD800:0xE000]))\n"
   ]
  },
  {
   "cell_type": "code",
   "execution_count": 75,
   "id": "bf1890aa",
   "metadata": {},
   "outputs": [
    {
     "name": "stdout",
     "output_type": "stream",
     "text": [
      "Unable to find the BGFX path bgfx, please install it or fix the bgfx_path setting to use the BGFX renderer.\n",
      "136002-116.h1 WRONG CHECKSUMS:\n",
      "    EXPECTED: CRC(7356896c) SHA1(a013ede292189a8f5a907de882ee1a573d784b3c)\n",
      "       FOUND: CRC(aeb0f7e9) SHA1(a5cc25015b98692673cfc1c7c2e9634efd750870)\n",
      "WARNING: the machine might not run correctly.\n",
      "Average speed: 100.00% (24 seconds)\n"
     ]
    }
   ],
   "source": [
    "!mame -window -rompath /home/robert/Dev/tempest/notebooks/ALEXEC.LDA\\ Roms/ tempest2"
   ]
  },
  {
   "cell_type": "markdown",
   "id": "a9c5e9e4",
   "metadata": {},
   "source": [
    "It works, however there are a couple of bytes that are different. It looks like we have a previously unknown ROM file in 136002-216.h1. (Note I've renamed it 136002-116.h1 just to get it to run with warnings above.)"
   ]
  },
  {
   "cell_type": "code",
   "execution_count": 69,
   "id": "a922fe44",
   "metadata": {},
   "outputs": [
    {
     "name": "stdout",
     "output_type": "stream",
     "text": [
      "4+0 records in\r\n",
      "4+0 records out\r\n",
      "4+0 records in\r\n",
      "4+0 records out\r\n",
      "2048 bytes (2.0 kB, 2.0 KiB) copied, 1.9455e-05 s, 105 MB/s\r\n",
      "2048 bytes (2.0 kB, 2.0 KiB) copied, 2.3515e-05 s, 87.1 MB/s\r\n",
      "000000a0: 8d25 0160 b98a 0229 fc99 8a02 4c98 a3e1  .%.`...)....L...\t  |\t000000a0: 8d25 0160 b98a 0229 fc99 8a02 4c98 a3b2  .%.`...)....L...\r\n",
      "00000260: 69aa a930 a200 2017 ab20 92aa 4ce7 a820  i..0.. .. ..L.. \t  |\t00000260: 69aa a930 a200 2017 ab20 92aa 4cb4 a820  i..0.. .. ..L.. \r\n"
     ]
    }
   ],
   "source": [
    "!diff -y -W 150 <(dd if=ALEXEC.LDA\\ Roms/tempest2/136002-116.h1|xxd) <(dd if=roms/136002-116.h1|xxd) |grep '  |\t'"
   ]
  },
  {
   "cell_type": "markdown",
   "id": "5163f170",
   "metadata": {},
   "source": [
    "Stop press. It looks like 215 is the same as 316:"
   ]
  },
  {
   "cell_type": "code",
   "execution_count": 71,
   "id": "d279e39f",
   "metadata": {},
   "outputs": [
    {
     "name": "stdout",
     "output_type": "stream",
     "text": [
      "4+0 records in\r\n",
      "4+0 records out\r\n",
      "2048 bytes (2.0 kB, 2.0 KiB) copied, 1.8446e-05 s, 111 MB/s\r\n",
      "4+0 records in\r\n",
      "4+0 records out\r\n",
      "2048 bytes (2.0 kB, 2.0 KiB) copied, 1.7627e-05 s, 116 MB/s\r\n"
     ]
    }
   ],
   "source": [
    "!diff -y -W 150 <(dd if=ALEXEC.LDA\\ Roms/tempest2/136002-116.h1|xxd) <(dd if=roms/136002-316.h1|xxd) |grep '  |\t'"
   ]
  },
  {
   "cell_type": "markdown",
   "id": "56a9d377",
   "metadata": {},
   "source": [
    "## Running Tempest 2A(Alt)"
   ]
  },
  {
   "cell_type": "code",
   "execution_count": 76,
   "id": "a6e2ac4b",
   "metadata": {},
   "outputs": [
    {
     "data": {
      "text/plain": [
       "4096"
      ]
     },
     "execution_count": 76,
     "metadata": {},
     "output_type": "execute_result"
    }
   ],
   "source": [
    "# Tempest '2A'\n",
    "\"\"\"\n",
    "TEMPST.DOC:\n",
    "Project #:  28903\t\t\tProject Programmer:  Dave Theurer\t\tProject Leader:  Morgan Hoff\n",
    "\n",
    "Documentation Disk(s): 36A,36B,36C\t\tProject Name:  Tempest\t\t\tDate:  12-17-81\t\tVersion: 2A (alt)\n",
    "\n",
    "\n",
    "Verification control filename: 002X2.DAT\tVerification file: ALEXEC.LDA\n",
    "\n",
    "\n",
    "Part #\t\tPCB Loc.\tDescription\t\tStart Addr\tGeneric name\tPart Size\tBits Used\n",
    "------\t\t--------\t-----------\t\t----------\t------------\t---------\t---------\t\n",
    "\n",
    "136002-138\tN/P3\t\tVG EROM\t\t\t3000\t\t2532\t\t4KX8\t\t7->0\t\t\t\t\n",
    "\n",
    "136002-237\tP1\t\tPROGRAM EROM\t\t9000\t\t2532\t\t4KX8\t\t7->0\n",
    "136002-136\tL/M1\t\tPROGRAM EROM\t\tA000\t\t2532\t\t4KX8\t\t7->0\n",
    "136002-235\tJ1\t\tPROGRAM EROM\t\tB000\t\t2532\t\t4KX8\t\t7->0\n",
    "136002-134\tF1\t\tPROGRAM EROM\t\tC000\t\t2532\t\t4KX8\t\t7->0\n",
    "136002-133\tD1\t\tPROGRAM EROM\t\tD000\t\t2532\t\t4KX8\t\t7->0\n",
    "\t\t\t\t(ind. self test)\n",
    "\"\"\"\n",
    "OUT_DIR=\"ALEXEC.LDA Roms/tempest/\"\n",
    "\n",
    "open(f\"{OUT_DIR}136002-123.np3\",'wb').write(bytes(output_bytes[0x3000:0x3800]))\n",
    "open(f\"{OUT_DIR}136002-124.r3\",'wb').write(bytes(output_bytes[0x3800:0x4000]))\n",
    "\n",
    "open(f\"{OUT_DIR}136002-138.np3\",'wb').write(bytes(output_bytes[0x3000:0x4000]))\n",
    "\n",
    "# Notice we have the addresses in reverse order, e.g. 136002-237 is written to 0xD000 rather\n",
    "# than 0x9000.\n",
    "open(f\"{OUT_DIR}136002-237.p1\",'wb').write(bytes(output_bytes[0xD000:0xE000]))\n",
    "open(f\"{OUT_DIR}136002-136.lm1\",'wb').write(bytes(output_bytes[0xC000:0xD000]))\n",
    "open(f\"{OUT_DIR}136002-235.j1\",'wb').write(bytes(output_bytes[0xB000:0xC000]))\n",
    "open(f\"{OUT_DIR}136002-134.f1\",'wb').write(bytes(output_bytes[0xA000:0xB000]))\n",
    "open(f\"{OUT_DIR}136002-133.d1\",'wb').write(bytes(output_bytes[0x9000:0xA000]))\n"
   ]
  },
  {
   "cell_type": "markdown",
   "id": "a56e74d8",
   "metadata": {},
   "source": [
    "This runs cleanly and without warnings so the binaries here are for what mame refers to as `rev 3`."
   ]
  },
  {
   "cell_type": "code",
   "execution_count": 77,
   "id": "56486de4",
   "metadata": {},
   "outputs": [
    {
     "name": "stdout",
     "output_type": "stream",
     "text": [
      "Unable to find the BGFX path bgfx, please install it or fix the bgfx_path setting to use the BGFX renderer.\n",
      "Average speed: 100.01% (2 seconds)\n"
     ]
    }
   ],
   "source": [
    "!mame -window -rompath /home/robert/Dev/tempest/notebooks/ALEXEC.LDA\\ Roms/ tempest"
   ]
  },
  {
   "cell_type": "markdown",
   "id": "8333eadb",
   "metadata": {},
   "source": [
    "This means that our 'new' ROM file is v3 in the old 'v2' format (i.e. 2K ROMs rather than 4K ROMs)."
   ]
  }
 ],
 "metadata": {
  "kernelspec": {
   "display_name": "Python 3 (ipykernel)",
   "language": "python",
   "name": "python3"
  },
  "language_info": {
   "codemirror_mode": {
    "name": "ipython",
    "version": 3
   },
   "file_extension": ".py",
   "mimetype": "text/x-python",
   "name": "python",
   "nbconvert_exporter": "python",
   "pygments_lexer": "ipython3",
   "version": "3.10.12"
  }
 },
 "nbformat": 4,
 "nbformat_minor": 5
}
