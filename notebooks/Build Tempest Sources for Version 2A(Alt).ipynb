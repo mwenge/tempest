{
 "cells": [
  {
   "cell_type": "markdown",
   "id": "f7ce6521",
   "metadata": {},
   "source": [
    "# Build Tempest Sources for Version 2A(Alt)"
   ]
  },
  {
   "cell_type": "code",
   "execution_count": 24,
   "id": "64c65b5c",
   "metadata": {},
   "outputs": [
    {
     "data": {
      "text/html": [
       "<style>.container { width:50% !important; }</style>"
      ],
      "text/plain": [
       "<IPython.core.display.HTML object>"
      ]
     },
     "metadata": {},
     "output_type": "display_data"
    }
   ],
   "source": [
    "from IPython.display import display, HTML\n",
    "display(HTML(\"<style>.container { width:50% !important; }</style>\"))"
   ]
  },
  {
   "cell_type": "markdown",
   "id": "1f6e65ff",
   "metadata": {},
   "source": [
    "## Prepare the Code"
   ]
  },
  {
   "cell_type": "markdown",
   "id": "f9988fa4",
   "metadata": {},
   "source": [
    "Clone the historicalsources source dump."
   ]
  },
  {
   "cell_type": "code",
   "execution_count": 13,
   "id": "38e398df",
   "metadata": {},
   "outputs": [
    {
     "name": "stdout",
     "output_type": "stream",
     "text": [
      "Cloning into 'tempest_2A'...\n",
      "remote: Enumerating objects: 45, done.\u001b[K\n",
      "remote: Counting objects: 100% (45/45), done.\u001b[K\n",
      "remote: Compressing objects: 100% (36/36), done.\u001b[K\n",
      "remote: Total 45 (delta 8), reused 45 (delta 8), pack-reused 0 (from 0)\u001b[K\n",
      "Receiving objects: 100% (45/45), 174.01 KiB | 1001.00 KiB/s, done.\n",
      "Resolving deltas: 100% (8/8), done.\n"
     ]
    }
   ],
   "source": [
    "!rm -rf tempest_2A\n",
    "!git clone https://github.com/historicalsource/tempest tempest_2A"
   ]
  },
  {
   "cell_type": "markdown",
   "id": "1140c396",
   "metadata": {},
   "source": [
    "Apply our patch that allows it to assemble and link correctly. This patch removes the dependency (which our old version of MAC65 can't handle) on correctly assembling globals with an offset."
   ]
  },
  {
   "cell_type": "code",
   "execution_count": 14,
   "id": "943f7b10",
   "metadata": {},
   "outputs": [
    {
     "name": "stdout",
     "output_type": "stream",
     "text": [
      "../0001-Fix-byte-relocation-errors.patch:76: trailing whitespace.\r\n",
      "\tSTA SCAL3  \r",
      "\r\n",
      "warning: 1 line adds whitespace errors.\r\n"
     ]
    }
   ],
   "source": [
    "!cd tempest_2A && git apply ../0001-Fix-byte-relocation-errors.patch "
   ]
  },
  {
   "cell_type": "markdown",
   "id": "ea318890",
   "metadata": {},
   "source": [
    "Create an rk05 disk of our modified sources."
   ]
  },
  {
   "cell_type": "code",
   "execution_count": 15,
   "id": "94b44389",
   "metadata": {},
   "outputs": [],
   "source": [
    "from rt11_utils import create_disk_from_files\n",
    "create_disk_from_files(\"tempest_2A/\", \"tempest_2A.rk05\", [\"MAC\"])"
   ]
  },
  {
   "cell_type": "markdown",
   "id": "0852ef1e",
   "metadata": {},
   "source": [
    "Copy it over to the `atari_build` directory so that our `pdp11` environment will pick it up when we run it in a few minutes. "
   ]
  },
  {
   "cell_type": "code",
   "execution_count": 16,
   "id": "58f39210",
   "metadata": {},
   "outputs": [],
   "source": [
    "!cp tempest_2A.rk05 ../atari_build/tempest_original.rk05"
   ]
  },
  {
   "cell_type": "markdown",
   "id": "ce490c33",
   "metadata": {},
   "source": [
    "## Let's Build It"
   ]
  },
  {
   "cell_type": "markdown",
   "id": "37e2bfef",
   "metadata": {},
   "source": [
    "For a full overview of the build process (plus tips and tricks), take a look at [the `atari_build` folder](../atari_build). Otherwise just have a go at the steps below.\n",
    "\n",
    "First, make sure you have `simh` installed:\n",
    "```\n",
    "sudo apt install simh\n",
    "```\n",
    "\n",
    "Then fire up a pdp11 from within the `atari_build` folder. If you have `gnome-terminal` installed, you can just run the cell below:"
   ]
  },
  {
   "cell_type": "code",
   "execution_count": 17,
   "id": "73a77c67",
   "metadata": {},
   "outputs": [
    {
     "name": "stdout",
     "output_type": "stream",
     "text": [
      "# Option “-e” is deprecated and might be removed in a later version of gnome-terminal.\n",
      "# Use “-- ” to terminate the options and put the command line to execute after it.\n",
      "# Failed to use specified server: GDBus.Error:org.freedesktop.DBus.Error.ServiceUnknown: The name :1.94 was not provided by any .service files\n",
      "# Falling back to default server.\n"
     ]
    }
   ],
   "source": [
    "!cd ../atari_build && gnome-terminal -e \"pdp11 tempest.ini\""
   ]
  },
  {
   "cell_type": "markdown",
   "id": "6b9768c2",
   "metadata": {},
   "source": [
    "Before you do anything type the following command, this will ensure that backspace works for you:\n",
    "```\n",
    "SET TT SCOPE\n",
    "```"
   ]
  },
  {
   "cell_type": "markdown",
   "id": "0dbaa66f",
   "metadata": {},
   "source": [
    "Below are the commands for building version 2A(alt) of Tempest. You can copy this into the terminal with PDP-11 running. The files ending with `2` are the '2A' versions. When building version 1 we use different files."
   ]
  },
  {
   "cell_type": "markdown",
   "id": "9993785e",
   "metadata": {},
   "source": [
    "```\n",
    "R MAC65\n",
    "RK1:ALWELG=ALWELG\n",
    "RK1:ALSCO2=ALSCO2\n",
    "RK1:ALDIS2=ALDIS2\n",
    "RK1:ALEXEC=ALEXEC\n",
    "RK1:ALSOUN=ALSOUN\n",
    "RK1:ALVROM=ALVROM\n",
    "^C\n",
    "```\n",
    "\n",
    "To run the second batch press `Ctrl-C` to 'close' the assembler first, then paste:\n",
    "\n",
    "```\n",
    "R MAC65\n",
    "RK1:ALCOIN=ALCOIN\n",
    "RK1:ALLANG=ALLANG\n",
    "RK1:ALHAR2=ALHAR2\n",
    "RK1:ALTES2=ALTES2\n",
    "RK1:ALEARO=ALEARO\n",
    "RK1:ALVGUT=ALVGUT\n",
    "^C\n",
    "```\n"
   ]
  },
  {
   "cell_type": "markdown",
   "id": "1b5ea4d7",
   "metadata": {},
   "source": [
    "The command to link our object files is:\n",
    "```\n",
    "R LINKM\n",
    "RK1:ALEXEC/L,ALEXEC/A=RK1:ALWELG,ALSCO2,ALDIS2,ALEXEC,ALSOUN,ALVROM/C\n",
    "ALCOIN,ALLANG,ALHAR2,ALTES2,ALEARO,ALVGUT\n",
    "^C\n",
    "```\n",
    "\n"
   ]
  },
  {
   "cell_type": "markdown",
   "id": "419866fe",
   "metadata": {},
   "source": [
    "When we're done building, we can close the terminal. Now we copy the rk05 disk, which now contains our object files and final binary, back over here."
   ]
  },
  {
   "cell_type": "code",
   "execution_count": 18,
   "id": "b46df368",
   "metadata": {},
   "outputs": [],
   "source": [
    "!cp ../atari_build/tempest_original.rk05 tempest_2A_objects.rk05 "
   ]
  },
  {
   "cell_type": "markdown",
   "id": "03ee0bed",
   "metadata": {},
   "source": [
    "## Extract our Build and Compare it with the Original"
   ]
  },
  {
   "cell_type": "markdown",
   "id": "7afba8e0",
   "metadata": {},
   "source": [
    "Extract the files from our rk05 disk."
   ]
  },
  {
   "cell_type": "code",
   "execution_count": 19,
   "id": "3107ad41",
   "metadata": {},
   "outputs": [],
   "source": [
    "from rt11_utils import extract_files_from_disk\n",
    "extract_files_from_disk(\"tempest_2A_objects.rk05\", \"tempest_2A_mod_object_files\")"
   ]
  },
  {
   "cell_type": "markdown",
   "id": "d4868b52",
   "metadata": {},
   "source": [
    "Compare the `ALEXEC.LDA` we built using our patched sources with the original one from the source dump."
   ]
  },
  {
   "cell_type": "code",
   "execution_count": 21,
   "id": "783be6ae",
   "metadata": {},
   "outputs": [
    {
     "name": "stdout",
     "output_type": "stream",
     "text": [
      "77+0 records in\r\n",
      "77+0 records out\r\n",
      "39424 bytes (39 kB, 38 KiB) copied, 6.1706e-05 s, 639 MB/s\r\n",
      "77+0 records in\r\n",
      "77+0 records out\r\n",
      "39424 bytes (39 kB, 38 KiB) copied, 6.6681e-05 s, 591 MB/s\r\n"
     ]
    }
   ],
   "source": [
    "!diff -y -W 150 <(dd if=tempest_modified/ALEXEC.LDA|xxd) <(dd if=tempest_2A_mod_object_files/ALEXEC.LDA|xxd) |grep '  |\t'"
   ]
  },
  {
   "cell_type": "markdown",
   "id": "7c272003",
   "metadata": {},
   "source": [
    "Voila! They match! But let's play this version that we built. First we extract the raw bytes from our object file `ALEXEC.LDA`:"
   ]
  },
  {
   "cell_type": "markdown",
   "id": "4e401f45",
   "metadata": {},
   "source": [
    "## Generate the ROM Files from our Build Binary"
   ]
  },
  {
   "cell_type": "code",
   "execution_count": 28,
   "id": "0179b01f",
   "metadata": {},
   "outputs": [],
   "source": [
    "from rt11_utils import parse_lda_file\n",
    "output_bytes = parse_lda_file(\"tempest_2A_mod_object_files/ALEXEC.LDA\")"
   ]
  },
  {
   "cell_type": "markdown",
   "id": "5612fc80",
   "metadata": {},
   "source": [
    "Now we can use these extracted bytes to fill the required ROM files. First we fill the ROMs that contain all the game code:"
   ]
  },
  {
   "cell_type": "code",
   "execution_count": 29,
   "id": "ac597783",
   "metadata": {},
   "outputs": [
    {
     "data": {
      "text/plain": [
       "4096"
      ]
     },
     "execution_count": 29,
     "metadata": {},
     "output_type": "execute_result"
    }
   ],
   "source": [
    "import os\n",
    "OUT_DIR=\"tempest_2A_roms/tempest\"\n",
    "if not os.path.exists(OUT_DIR):\n",
    "    os.makedirs(OUT_DIR)\n",
    "\n",
    "open(f\"{OUT_DIR}/136002-138.np3\",'wb').write(bytes(output_bytes[0x3000:0x4000]))\n",
    "# Notice we have the addresses in reverse order, e.g. 136002-237 is written to 0xD000 rather\n",
    "# than 0x9000.\n",
    "open(f\"{OUT_DIR}/136002-237.p1\",'wb').write(bytes(output_bytes[0xD000:0xE000]))\n",
    "open(f\"{OUT_DIR}/136002-136.lm1\",'wb').write(bytes(output_bytes[0xC000:0xD000]))\n",
    "open(f\"{OUT_DIR}/136002-235.j1\",'wb').write(bytes(output_bytes[0xB000:0xC000]))\n",
    "open(f\"{OUT_DIR}/136002-134.f1\",'wb').write(bytes(output_bytes[0xA000:0xB000]))\n",
    "open(f\"{OUT_DIR}/136002-133.d1\",'wb').write(bytes(output_bytes[0x9000:0xA000]))\n"
   ]
  },
  {
   "cell_type": "markdown",
   "id": "b1a57c26",
   "metadata": {},
   "source": [
    "Next we fill the ROMS that will contain the 'mathbox' code. This is like a help library used by the game for math calculations:"
   ]
  },
  {
   "cell_type": "code",
   "execution_count": 30,
   "id": "70f92329",
   "metadata": {},
   "outputs": [
    {
     "data": {
      "text/plain": [
       "256"
      ]
     },
     "execution_count": 30,
     "metadata": {},
     "output_type": "execute_result"
    }
   ],
   "source": [
    "mathbox_bytes = open(\"tempest/MBOX.SAV\",'rb').read()\n",
    "open(f\"{OUT_DIR}/136002-126.a1\",'wb').write(mathbox_bytes[0x8400:0x8420])\n",
    "# 136002-127.e1 contains the low 4 bits of each byte in 0x6A00:0x6B00 in MBOX.SAV\n",
    "open(f\"{OUT_DIR}/136002-127.e1\",'wb').write(bytes([a & 0x0F for a in mathbox_bytes[0x6A00:0x6B00]]))\n",
    "# 136002-128.f1 contains the high 4 bits (right-shifted) of each byte in 0x6A00:0x6B00 in MBOX.SAV\n",
    "open(f\"{OUT_DIR}/136002-128.f1\",'wb').write(bytes([(a & 0xF0) >> 4 for a in mathbox_bytes[0x6A00:0x6B00]]))\n",
    "\n",
    "# 136002-129.h1 contains the low 4 bits of each byte in 0x6900:0x6A00 in MBOX.SAV\n",
    "open(f\"{OUT_DIR}/136002-129.h1\",'wb').write(bytes([a & 0x0F for a in mathbox_bytes[0x6900:0x6A00]]))\n",
    "# 136002-130.j1 contains the high 4 bits (right-shifted) of each byte in 0x6900:0x6A00 in MBOX.SAV\n",
    "open(f\"{OUT_DIR}/136002-130.j1\",'wb').write(bytes([(a & 0xF0) >> 4 for a in mathbox_bytes[0x6900:0x6A00]]))\n",
    "\n",
    "# 136002-131.k1 contains the low 4 bits of each byte in 0x6800:0x6900 in MBOX.SAV\n",
    "open(f\"{OUT_DIR}/136002-131.k1\",'wb').write(bytes([a & 0x0F for a in mathbox_bytes[0x6800:0x6900]]))\n",
    "# 136002-132.l1 contains the high 4 bits (right-shifted) of each byte in 0x6800:0x6900 in MBOX.SAV\n",
    "open(f\"{OUT_DIR}/136002-132.l1\",'wb').write(bytes([(a & 0xF0) >> 4 for a in mathbox_bytes[0x6800:0x6900]]))\n"
   ]
  },
  {
   "cell_type": "markdown",
   "id": "75f745ba",
   "metadata": {},
   "source": [
    "Finally we fill the ROM that contains the code used to generate vectors in the game. Tempest is a vector rather than pixel-based game after all:"
   ]
  },
  {
   "cell_type": "code",
   "execution_count": 31,
   "id": "cbbf54e6",
   "metadata": {},
   "outputs": [
    {
     "data": {
      "text/plain": [
       "256"
      ]
     },
     "execution_count": 31,
     "metadata": {},
     "output_type": "execute_result"
    }
   ],
   "source": [
    "vecgen_bytes = open(\"tempest/STATE2.SAV\",'rb').read()\n",
    "open(f\"{OUT_DIR}/136002-125.d7\",'wb').write(vecgen_bytes[0x1000:0x1100])"
   ]
  },
  {
   "cell_type": "markdown",
   "id": "5ca5af13",
   "metadata": {},
   "source": [
    "## Play the Game We Built With Our Own Hands"
   ]
  },
  {
   "cell_type": "markdown",
   "id": "afd1d8f3",
   "metadata": {},
   "source": [
    "And finally we can run the game!"
   ]
  },
  {
   "cell_type": "code",
   "execution_count": 32,
   "id": "42d672b1",
   "metadata": {},
   "outputs": [
    {
     "name": "stdout",
     "output_type": "stream",
     "text": [
      "Unable to find the BGFX path bgfx, please install it or fix the bgfx_path setting to use the BGFX renderer.\n",
      "Average speed: 99.86% (2 seconds)\n"
     ]
    }
   ],
   "source": [
    "!mame -window -rompath ./tempest_2A_roms/ tempest"
   ]
  },
  {
   "cell_type": "code",
   "execution_count": null,
   "id": "421a7725",
   "metadata": {},
   "outputs": [],
   "source": [
    "\n",
    "\n",
    "\n",
    "\n",
    "\n",
    "\n",
    "\n",
    "\n",
    "\n",
    "\n",
    "\n"
   ]
  },
  {
   "cell_type": "code",
   "execution_count": null,
   "id": "749d45ef",
   "metadata": {},
   "outputs": [],
   "source": []
  }
 ],
 "metadata": {
  "kernelspec": {
   "display_name": "Python 3 (ipykernel)",
   "language": "python",
   "name": "python3"
  },
  "language_info": {
   "codemirror_mode": {
    "name": "ipython",
    "version": 3
   },
   "file_extension": ".py",
   "mimetype": "text/x-python",
   "name": "python",
   "nbconvert_exporter": "python",
   "pygments_lexer": "ipython3",
   "version": "3.10.12"
  }
 },
 "nbformat": 4,
 "nbformat_minor": 5
}
