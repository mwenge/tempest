{
 "cells": [
  {
   "cell_type": "markdown",
   "id": "f7ce6521",
   "metadata": {},
   "source": [
    "# Fix Tempest Sources to Work with MAC65VM03.09"
   ]
  },
  {
   "cell_type": "code",
   "execution_count": 11,
   "id": "64c65b5c",
   "metadata": {},
   "outputs": [
    {
     "data": {
      "text/html": [
       "<style>.container { width:60% !important; }</style>"
      ],
      "text/plain": [
       "<IPython.core.display.HTML object>"
      ]
     },
     "metadata": {},
     "output_type": "display_data"
    }
   ],
   "source": [
    "from IPython.display import display, HTML\n",
    "display(HTML(\"<style>.container { width:60% !important; }</style>\"))"
   ]
  },
  {
   "cell_type": "markdown",
   "id": "f9988fa4",
   "metadata": {},
   "source": [
    "Clone the historicalsources source dump."
   ]
  },
  {
   "cell_type": "code",
   "execution_count": 57,
   "id": "38e398df",
   "metadata": {},
   "outputs": [
    {
     "name": "stdout",
     "output_type": "stream",
     "text": [
      "Cloning into 'tempest_modified'...\n",
      "remote: Enumerating objects: 45, done.\u001b[K\n",
      "remote: Counting objects: 100% (45/45), done.\u001b[K\n",
      "remote: Compressing objects: 100% (36/36), done.\u001b[K\n",
      "remote: Total 45 (delta 8), reused 45 (delta 8), pack-reused 0 (from 0)\u001b[K\n",
      "Receiving objects: 100% (45/45), 174.01 KiB | 1.89 MiB/s, done.\n",
      "Resolving deltas: 100% (8/8), done.\n"
     ]
    }
   ],
   "source": [
    "!rm -rf tempest_modified\n",
    "!git clone https://github.com/historicalsource/tempest tempest_modified"
   ]
  },
  {
   "cell_type": "markdown",
   "id": "33acb00f",
   "metadata": {},
   "source": [
    "This patch removes the dependency (which our old version of MAC65 can't handle) on correctly assembling globals with an offset."
   ]
  },
  {
   "cell_type": "code",
   "execution_count": 64,
   "id": "bd640db8",
   "metadata": {},
   "outputs": [
    {
     "name": "stdout",
     "output_type": "stream",
     "text": [
      "From 21308d40700723190fed6ed743d6cbdb134c1fde Mon Sep 17 00:00:00 2001\r\n",
      "From: Robert Hogan <robhogan@gmail.com>\r\n",
      "Date: Sat, 26 Oct 2024 14:35:28 +0100\r\n",
      "Subject: [PATCH] Fix byte relocation errors\r\n",
      "\r\n",
      "---\r\n",
      " ALDIS2.MAC |  29 +++++++++++++++--------------\r\n",
      " ALSCO2.MAC |  13 +++++++------\r\n",
      " ALTES2.MAC |  10 +++++-----\r\n",
      " ALVGUT.MAC |   2 +-\r\n",
      " ALVROM.MAC |  19 +++++++++++++++----\r\n",
      " ANVGAN.MAC | Bin 6144 -> 6226 bytes\r\n",
      " 6 files changed, 43 insertions(+), 30 deletions(-)\r\n",
      "\r\n",
      "diff --git a/ALDIS2.MAC b/ALDIS2.MAC\r\n",
      "index f07c235..c6fdf5a 100644\r\n",
      "--- a/ALDIS2.MAC\r\n",
      "+++ b/ALDIS2.MAC\r\n",
      "@@ -15,7 +15,7 @@\r\n",
      " \t.SBTTL GLOBALS\r",
      "\r\n",
      " \t\t\t\t;ENTRY POINTS\r",
      "\r\n",
      " \t.GLOBL VGADD,VGJSRL,VGVCTR,GETDSP,LDRDSP,VGCNTR,SWAPVG,VGDOT\r",
      "\r\n",
      "-\t.GLOBL VGADD2,VGHEXZ,DISPLA,VGHALT,INIDSP,JSRDOT,VGADD3\r",
      "\r\n",
      "+\t.GLOBL VGADD2,VGHEXZ,DISPLA,VGHALT,INIDSP,JSRDOT,VGADD3,JSRDT1\r",
      "\r\n",
      " \t.GLOBL DPRSTA,D2GAME\r",
      "\r\n",
      " \t.GLOBL INFO,RQRDSP,DSPHOL\r",
      "\r\n",
      " \t.GLOBL VGRTSL,DGOVER,DPLPLA,PICLO,PICHI\r",
      "\r\n",
      "@@ -29,7 +29,8 @@\r\n",
      " \t.GLOBL BUFBSL,BUFBSH,BUFASL,BUFASH,JMPMAL,JMPMAH,BCWELL,BUFSWL,BUFSWH\r",
      "\r\n",
      " \t.GLOBL JMPALO,JMPAHI,JMPBLO,JMPBHI,BCSTAR,BFASTA,BFBSTA,PTFUSE,PTFUSX\r",
      "\r\n",
      " \t.GLOBL PPSPXI,CPSPXI,FPSPXI,KILLER\r",
      "\r\n",
      "-\t.GLOBL QCHKS6,QCHKS7,QCHKS8\r",
      "\r\n",
      "+\t.GLOBL QCHKS6,QCHKS7,QCHKS8,SCAL1,SCAL3,JMPMH2,JMPMH4,JMPMA2,JMPMA4\r",
      "\r\n",
      "+        .GLOBL BFAST1,BFBST1\r",
      "\r\n",
      " RATS\t=0C0\r",
      "\r\n",
      " MZCOLO\t=8\t\t\t;NEW COLOR STAT BIT MASK\r",
      "\r\n",
      " MZBRIT\t=0\t\t\t;NEW INTENSITY STAT BIT\r",
      "\r\n",
      "@@ -47,7 +48,7 @@ SPACG=0\t\t\t;SUPPRESS SPACE GAME CODE\r\n",
      " DISPLAY:\r",
      "\r\n",
      " \tJSR INIMAT\t\t;SET UP MATH BOX\r",
      "\r\n",
      " \tLDA VECRAM\r",
      "\r\n",
      "-\tCMP JMPMAL+4\r",
      "\r\n",
      "+\tCMP JMPMA4\r",
      "\r\n",
      " \tIFEQ\t\t\t;TRYING TO HALT?\r",
      "\r\n",
      " \tLDA SPARE3\t\t;YES.\r",
      "\r\n",
      " \tIFEQ\t\t\t;HALT YET\r",
      "\r\n",
      "@@ -85,9 +86,9 @@ ZATVG2::\r\n",
      " \tENDIF\r",
      "\r\n",
      " \tLDA I,BCINFO\r",
      "\r\n",
      " \tJSR SBCSWI\r",
      "\r\n"
     ]
    }
   ],
   "source": [
    "! head -n50 0001-Fix-byte-relocation-errors.patch"
   ]
  },
  {
   "cell_type": "markdown",
   "id": "1140c396",
   "metadata": {},
   "source": [
    "Apply our patch that allows it to assemble and link correctly. "
   ]
  },
  {
   "cell_type": "code",
   "execution_count": 60,
   "id": "943f7b10",
   "metadata": {},
   "outputs": [
    {
     "name": "stdout",
     "output_type": "stream",
     "text": [
      "../0001-Fix-byte-relocation-errors.patch:76: trailing whitespace.\r\n",
      "\tSTA SCAL3  \r",
      "\r\n",
      "warning: 1 line adds whitespace errors.\r\n"
     ]
    }
   ],
   "source": [
    "!cd tempest_modified && git apply ../0001-Fix-byte-relocation-errors.patch "
   ]
  },
  {
   "cell_type": "markdown",
   "id": "ea318890",
   "metadata": {},
   "source": [
    "Create an rk05 disk of our modified sources."
   ]
  },
  {
   "cell_type": "code",
   "execution_count": 49,
   "id": "94b44389",
   "metadata": {},
   "outputs": [],
   "source": [
    "from rt11_utils import create_disk_from_files\n",
    "create_disk_from_files(\"tempest_modified/\", \"tempest_modified_clean.rk05\", [\"MAC\"])"
   ]
  },
  {
   "cell_type": "markdown",
   "id": "0852ef1e",
   "metadata": {},
   "source": [
    "Copy it over to the `atari_build` directory. "
   ]
  },
  {
   "cell_type": "code",
   "execution_count": 50,
   "id": "58f39210",
   "metadata": {},
   "outputs": [],
   "source": [
    "!cp tempest_modified_clean.rk05 ../atari_build/tempest_modified_clean.rk05\n",
    "!cp tempest_modified_clean.rk05 ../atari_build/tempest_original.rk05"
   ]
  },
  {
   "cell_type": "markdown",
   "id": "37e2bfef",
   "metadata": {},
   "source": [
    "Now you need to go into atari build, and follow the build instructions there. In summary they are:"
   ]
  },
  {
   "cell_type": "markdown",
   "id": "9993785e",
   "metadata": {},
   "source": [
    "```\n",
    "R MAC65\n",
    "OBJ:ALWELG=ALWELG\n",
    "OBJ:ALSCO2=ALSCO2\n",
    "OBJ:ALDIS2=ALDIS2\n",
    "OBJ:ALEXEC=ALEXEC\n",
    "OBJ:ALSOUN=ALSOUN\n",
    "OBJ:ALVROM=ALVROM\n",
    "^C\n",
    "```\n",
    "\n",
    "To run the second batch press `Ctrl-C` to 'close' the assembler first, then paste:\n",
    "\n",
    "```\n",
    "R MAC65\n",
    "OBJ:ALCOIN=ALCOIN\n",
    "OBJ:ALLANG=ALLANG\n",
    "OBJ:ALHAR2=ALHAR2\n",
    "OBJ:ALTES2=ALTES2\n",
    "OBJ:ALEARO=ALEARO\n",
    "OBJ:ALVGUT=ALVGUT\n",
    "^C\n",
    "```\n"
   ]
  },
  {
   "cell_type": "markdown",
   "id": "1b5ea4d7",
   "metadata": {},
   "source": [
    "The command to link our object files is:\n",
    "```\n",
    "R LINKM\n",
    "BIN:ALEXEC/L,ALEXEC/A=OBJ:ALWELG,ALSCO2,ALDIS2,ALEXEC,ALSOUN,ALVROM/C\n",
    "ALCOIN,ALLANG,ALHAR2,ALTES2,ALEARO,ALVGUT\n",
    "^C\n",
    "```\n",
    "\n"
   ]
  },
  {
   "cell_type": "markdown",
   "id": "419866fe",
   "metadata": {},
   "source": [
    "When we're done building, copy the rk05 disk, which now contains our object files and final binary, back over here."
   ]
  },
  {
   "cell_type": "code",
   "execution_count": 51,
   "id": "b46df368",
   "metadata": {},
   "outputs": [],
   "source": [
    "!cp ../atari_build/tempest_original.rk05 tempest_modified.rk05 "
   ]
  },
  {
   "cell_type": "markdown",
   "id": "7afba8e0",
   "metadata": {},
   "source": [
    "Extract the files from our rk05 disk."
   ]
  },
  {
   "cell_type": "code",
   "execution_count": 52,
   "id": "3107ad41",
   "metadata": {},
   "outputs": [],
   "source": [
    "from rt11_utils import extract_files_from_disk\n",
    "extract_files_from_disk(\"tempest_modified.rk05\", \"tempest_mod_object_files\")"
   ]
  },
  {
   "cell_type": "markdown",
   "id": "d4868b52",
   "metadata": {},
   "source": [
    "Compare the `ALEXEC.LDA` we built using our patched sources with the original one from the source dump."
   ]
  },
  {
   "cell_type": "code",
   "execution_count": 62,
   "id": "783be6ae",
   "metadata": {},
   "outputs": [
    {
     "name": "stdout",
     "output_type": "stream",
     "text": [
      "77+0 records in\r\n",
      "77+0 records out\r\n",
      "39424 bytes (39 kB, 38 KiB) copied, 5.646e-05 s, 698 MB/s\r\n",
      "77+0 records in\r\n",
      "77+0 records out\r\n",
      "39424 bytes (39 kB, 38 KiB) copied, 5.7418e-05 s, 687 MB/s\r\n"
     ]
    }
   ],
   "source": [
    "!diff -y -W 150 <(dd if=tempest_modified/ALEXEC.LDA|xxd) <(dd if=tempest_mod_object_files/ALEXEC.LDA|xxd) |grep '  |\t'"
   ]
  },
  {
   "cell_type": "markdown",
   "id": "7c272003",
   "metadata": {},
   "source": [
    "Voila! They match!"
   ]
  },
  {
   "cell_type": "code",
   "execution_count": null,
   "id": "421a7725",
   "metadata": {},
   "outputs": [],
   "source": [
    "\n",
    "\n",
    "\n",
    "\n",
    "\n",
    "\n",
    "\n",
    "\n",
    "\n",
    "\n",
    "\n"
   ]
  },
  {
   "cell_type": "code",
   "execution_count": null,
   "id": "749d45ef",
   "metadata": {},
   "outputs": [],
   "source": []
  }
 ],
 "metadata": {
  "kernelspec": {
   "display_name": "Python 3 (ipykernel)",
   "language": "python",
   "name": "python3"
  },
  "language_info": {
   "codemirror_mode": {
    "name": "ipython",
    "version": 3
   },
   "file_extension": ".py",
   "mimetype": "text/x-python",
   "name": "python",
   "nbconvert_exporter": "python",
   "pygments_lexer": "ipython3",
   "version": "3.10.12"
  }
 },
 "nbformat": 4,
 "nbformat_minor": 5
}
