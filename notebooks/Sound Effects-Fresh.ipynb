{
 "cells": [
  {
   "cell_type": "code",
   "execution_count": 2,
   "id": "3bd24896",
   "metadata": {},
   "outputs": [],
   "source": [
    "def get_channel_data(chn_data):\n",
    "    channels = []\n",
    "    for chn in raw_chns:\n",
    "        channel = []\n",
    "        for frame in chn.splitlines()[1:]:\n",
    "            if not \"BYTE\" in frame:\n",
    "                continue\n",
    "            frame = frame.split()[1].split(',')\n",
    "            channel += [[int(x,16) for x in frame]]\n",
    "        channels += [channel]\n",
    "    return channels\n",
    "\n",
    "def get_channel_bytes(frame_data):\n",
    "    channel = []\n",
    "    for stval,frcnt,change,number in frame_data[:-1]:\n",
    "        channel+=[stval for i in range(0,frcnt)]\n",
    "        for i in range(0,number):\n",
    "            stval+=change\n",
    "            stval=stval%255\n",
    "            channel+=[stval]\n",
    "    return channel"
   ]
  },
  {
   "cell_type": "code",
   "execution_count": 10,
   "id": "9087730c",
   "metadata": {},
   "outputs": [
    {
     "name": "stdout",
     "output_type": "stream",
     "text": [
      "[[8, 8, 8, 8, 40, 72, 104, 136, 168, 200, 232, 9, 41, 73, 8, 8, 8, 8, 9, 10, 11, 12, 13, 14, 15, 16, 17, 16, 16, 16, 16, 16, 16, 16, 16, 16, 16, 16, 16, 16, 20, 24, 28, 32, 36, 40, 44, 48, 52, 56, 60, 64], [8, 8, 8, 8, 8, 8, 8, 8, 8, 8, 8, 8, 8, 8, 104, 104, 104, 104, 104, 104, 104, 104, 104, 104, 104, 104, 104, 104, 104, 104, 104, 104, 104, 104, 104, 104, 104, 104, 104, 104, 104, 104, 104, 104, 104, 104, 104, 104, 104, 104, 104, 104, 104, 104]]\n"
     ]
    }
   ],
   "source": [
    "raw_chns = \"\"\"\n",
    "DI1F:\n",
    "\t.BYTE 8,4,20,0A\n",
    "\t.BYTE 8,4,1,9\n",
    "\t.BYTE 10,0D,4,0C\n",
    "\t.BYTE 0,0\n",
    "DI1A:\n",
    "\t.BYTE 08,4,0,0A\n",
    "\t.BYTE 068,4,0,9\n",
    "\t.BYTE 68,12,0FF,9\n",
    "\t.BYTE 0,0\n",
    "\"\"\".split(\":\")[1:]\n",
    "\n",
    "chan_data = get_channel_data(raw_chns)\n",
    "channel_bytes = []\n",
    "for frame_data in chan_data:\n",
    "    channel_bytes+=[get_channel_bytes(frame_data)]\n",
    "print(channel_bytes)"
   ]
  },
  {
   "cell_type": "code",
   "execution_count": 11,
   "id": "42ecfe5f",
   "metadata": {},
   "outputs": [
    {
     "name": "stdout",
     "output_type": "stream",
     "text": [
      "52 54\n"
     ]
    },
    {
     "data": {
      "text/plain": [
       "15600"
      ]
     },
     "execution_count": 11,
     "metadata": {},
     "output_type": "execute_result"
    }
   ],
   "source": [
    "ch1,ch2 = channel_bytes\n",
    "print(len(ch1),len(ch2))\n",
    "pcm_bytes = []\n",
    "for i,x in enumerate(ch1):\n",
    "    pcm_bytes+=[x]*150\n",
    "    pcm_bytes+=[ch2[i]]*150\n",
    "open(\"test.smp\",'wb').write(bytes(pcm_bytes))"
   ]
  },
  {
   "cell_type": "code",
   "execution_count": 12,
   "id": "76092cac",
   "metadata": {},
   "outputs": [
    {
     "name": "stdout",
     "output_type": "stream",
     "text": [
      "play WARN alsa: can't encode 0-bit Unknown or not applicable\r\n",
      "play WARN alsa: can't encode 8-bit Signed Integer PCM\r\n",
      "\r\n",
      "test.smp:\r\n",
      "\r\n",
      " File Size: 15.6k     Bit Rate: 240k\r\n",
      "  Encoding: Signed PCM    \r\n",
      "  Channels: 2 @ 8-bit    \r\n",
      "Samplerate: 15000Hz      \r\n",
      "Replaygain: off         \r\n",
      "  Duration: 00:00:00.52  \r\n",
      "\r\n",
      "\r",
      "In:0.00% 00:00:00.00 [00:00:00.52] Out:0     [      |      ]        Clip:0    \r",
      "In:100%  00:00:00.52 [00:00:00.00] Out:7.80k [!=====|=====!]        Clip:0    \r\n",
      "Done.\r\n"
     ]
    }
   ],
   "source": [
    "# !ffplay -f s8 -ar 10k -ac 2 ../tempest2k/src/sounds/samples/22\n",
    "!play -t raw -r 15k -e signed-integer -b 8 -c 2 test.smp"
   ]
  },
  {
   "cell_type": "code",
   "execution_count": 32,
   "id": "b7399c6e",
   "metadata": {},
   "outputs": [
    {
     "data": {
      "text/plain": [
       "[52, 52]"
      ]
     },
     "execution_count": 32,
     "metadata": {},
     "output_type": "execute_result"
    }
   ],
   "source": [
    "\n",
    "\n",
    "\n",
    "\n",
    "\n"
   ]
  }
 ],
 "metadata": {
  "kernelspec": {
   "display_name": "Python 3 (ipykernel)",
   "language": "python",
   "name": "python3"
  },
  "language_info": {
   "codemirror_mode": {
    "name": "ipython",
    "version": 3
   },
   "file_extension": ".py",
   "mimetype": "text/x-python",
   "name": "python",
   "nbconvert_exporter": "python",
   "pygments_lexer": "ipython3",
   "version": "3.10.12"
  }
 },
 "nbformat": 4,
 "nbformat_minor": 5
}
