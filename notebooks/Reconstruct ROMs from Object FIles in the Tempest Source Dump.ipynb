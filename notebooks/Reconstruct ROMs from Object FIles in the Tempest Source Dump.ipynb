{
 "cells": [
  {
   "cell_type": "markdown",
   "id": "04b20de0",
   "metadata": {},
   "source": [
    "# Generate ROMs from the Object Files in Tempest Source Disks"
   ]
  },
  {
   "cell_type": "code",
   "execution_count": 150,
   "id": "fe2157d5",
   "metadata": {},
   "outputs": [
    {
     "data": {
      "text/html": [
       "<style>.container { width:60% !important; }</style>"
      ],
      "text/plain": [
       "<IPython.core.display.HTML object>"
      ]
     },
     "metadata": {},
     "output_type": "display_data"
    }
   ],
   "source": [
    "from IPython.display import display, HTML\n",
    "display(HTML(\"<style>.container { width:60% !important; }</style>\"))"
   ]
  },
  {
   "cell_type": "markdown",
   "id": "31de58f4",
   "metadata": {},
   "source": [
    "Get the source files from the 'historicalsource' github repository."
   ]
  },
  {
   "cell_type": "code",
   "execution_count": 198,
   "id": "ab295939",
   "metadata": {},
   "outputs": [
    {
     "name": "stdout",
     "output_type": "stream",
     "text": [
      "Cloning into 'tempest'...\n",
      "remote: Enumerating objects: 45, done.\u001b[K\n",
      "remote: Counting objects: 100% (45/45), done.\u001b[K\n",
      "remote: Compressing objects: 100% (36/36), done.\u001b[K\n",
      "remote: Total 45 (delta 8), reused 45 (delta 8), pack-reused 0 (from 0)\u001b[K\n",
      "Receiving objects: 100% (45/45), 174.01 KiB | 1.89 MiB/s, done.\n",
      "Resolving deltas: 100% (8/8), done.\n"
     ]
    }
   ],
   "source": [
    "!rm -rf tempest\n",
    "!git clone https://github.com/historicalsource/tempest"
   ]
  },
  {
   "cell_type": "markdown",
   "id": "07eb7d21",
   "metadata": {},
   "source": [
    "The object files in the source dump are:\n",
    "\n",
    "|File|Description\n",
    "|---|---|\n",
    "`TEMPST.LDA`| Object file for version 1 of Tempest\n",
    "`ALEXEC.LDA` | Object file for version 2 of Tempest\n",
    "`MBOX.SAV` | Object file for the MathBox Module\n",
    "`STATE2.SAV` | Object file for the Vector Generator Module\n"
   ]
  },
  {
   "cell_type": "markdown",
   "id": "77ea96fe",
   "metadata": {},
   "source": [
    "While the `SAV` files are more or less raw binary output from the Atari MAC65 assembler, `LDA` is an PDP11/RT-11 file format. It's not a raw binary dump, instead the data is stored in chunks each one with with a header and checksum.\n",
    "\n",
    "A chunk looks something like this (all words are little-endian):\n",
    "```\n",
    "Sentinel: 0x0100\n",
    "Length: 0x0B00\n",
    "Load Address: 0x0090\n",
    "Data: 0x0102030405\n",
    "Checksum: 0x09\n",
    "```\n",
    "\n",
    "You keep reading the chunks above until there are none left! See http://www.bitsavers.org/pdf/dec/pdp11/rt11/v5.6_Aug91/AA-PD6PA-TC_RT-11_Volume_and_File_Formats_Manual_Aug91.pdf. So let's start with `TEMPST.LDA` and extract the binary data from it."
   ]
  },
  {
   "cell_type": "markdown",
   "id": "cb38d655",
   "metadata": {},
   "source": [
    "## Generate ROMs for Tempest Version 1"
   ]
  },
  {
   "cell_type": "markdown",
   "id": "59746cbb",
   "metadata": {},
   "source": [
    "A short function to parse LDA files."
   ]
  },
  {
   "cell_type": "code",
   "execution_count": 164,
   "id": "01a89558",
   "metadata": {},
   "outputs": [],
   "source": [
    "word = lambda x: (x).to_bytes(2,\"little\")\n",
    "read_word = lambda x: int.from_bytes(x,\"little\")\n",
    "\n",
    "def parse_lda_file(filename):\n",
    "    BLOCK_HEADER = b'\\x01\\x00'\n",
    "    LDA_END = 0x0000\n",
    "    \n",
    "    al = open(filename,'rb')\n",
    "    blocks = []\n",
    "    while True:\n",
    "        sentinel = al.read(2)\n",
    "        if sentinel != BLOCK_HEADER:\n",
    "            raise Exception(\"Block Header Expected But Got: \", sentinel)\n",
    "\n",
    "        len_data = read_word(al.read(2)) - 6\n",
    "        # Have we reached the end of our blocks?\n",
    "        if len_data == LDA_END:\n",
    "            break\n",
    "\n",
    "        addr = read_word(al.read(2))\n",
    "        data = al.read(len_data)\n",
    "        checksum = al.read(1)\n",
    "        blocks += [(hex(addr),addr,len(data),data)]\n",
    "        \n",
    "    # Use the addresses given in our datablocks to populate\n",
    "    # a bytearray of all of the ROM data.\n",
    "    output_bytes = bytearray(b'\\x00' * 0xFFFF)\n",
    "    for _,addr,len_data,data in blocks:\n",
    "        output_bytes[addr:addr+len_data] = data\n",
    "\n",
    "    return output_bytes"
   ]
  },
  {
   "cell_type": "markdown",
   "id": "b911b57b",
   "metadata": {},
   "source": [
    "Let's use it to parse `TEMPST.LDA`."
   ]
  },
  {
   "cell_type": "code",
   "execution_count": 156,
   "id": "f1256f57",
   "metadata": {},
   "outputs": [],
   "source": [
    "output_bytes = parse_lda_file(\"tempest/TEMPST.LDA\")"
   ]
  },
  {
   "cell_type": "markdown",
   "id": "b46b5e42",
   "metadata": {},
   "source": [
    "Now we have the 'raw' bytes for our ROMs in `output_bytes`."
   ]
  },
  {
   "cell_type": "markdown",
   "id": "93bed9e8",
   "metadata": {},
   "source": [
    "The file `TEMPST.DOC` gives us some version control information for different builds of Tempest. This is what has for Version 1 of Tempest, it's at the very bottom of the file. The 'START ADDR' tells us where the different address ranges in our `output_bytes` should go and which ROM file they should be written to."
   ]
  },
  {
   "cell_type": "markdown",
   "id": "cff38ee2",
   "metadata": {},
   "source": [
    "```\n",
    "PROJECT NUMBER:\t28903\t\t\tPROJECT PROGRAMMER:\tDAVE THEURER\t\t\tPROJECT LEADER:\tMORGAN HOFF\n",
    "\n",
    "DOCUMENTATION DISK(S): 36A,36B,36C\t\tPROJECT NAME:\tTEMPEST\t\t\tDATE:\t8/26/81\t\tVersion: 1\n",
    "\n",
    "\n",
    "Verification control filename: 002X1.DAT\tVerification file: TEMPST.LDA\n",
    "\n",
    "\n",
    "PART NUMBER\tPCB LOCATION\tDESCRIPTION\tSTART ADDR.\tRELEASE FILE NAME\tGENERIC NAME\tPART SIZE\tBITS USED\n",
    "\n",
    "136002-111\tN3\t\tVECT.GEN.ROM\t3000\t\t136002.111\t\t8316E\t\t2KX8\t\t0-7\n",
    "136002-112\tR3\t\tVECT.GEN.ROM\t3800\t\t136002.112\t\t8316E\t\t2KX8\t\t0-7\n",
    "\n",
    "[Cut the Program ROMs, which are a copy of the EPROMs below]\n",
    "\n",
    "136002-123\tN3\t\tVECT.GEN.EPROM\t3000\t\t136002.123\t\t2716\t\t2KX8\t\t0-7\n",
    "136002-124\tR3\t\tVECT.GEN.EPROM\t3800\t\t136002.124\t\t2716\t\t2KX8\t\t0-7\n",
    "\n",
    "136002-113\tD1\t\tPROGRAM EPROM\t9000\t\t136002.113\t\t2716\t\t2KX8\t\t0-7\n",
    "136002-114\tE1\t\tPROGRAM EPROM\t9800\t\t136002.114\t\t2716\t\t2KX8\t\t0-7\n",
    "136002-115\tF1\t\tPROGRAM EPROM\tA000\t\t136002.115\t\t2716\t\t2KX8\t\t0-7\n",
    "136002-116\tH1\t\tPROGRAM EPROM\tA800\t\t136002.116\t\t2716\t\t2KX8\t\t0-7\n",
    "136002-117\tJ1\t\tPROGRAM EPROM\tB000\t\t136002.117\t\t2716\t\t2KX8\t\t0-7\n",
    "136002-118\tK1\t\tPROGRAM EPROM\tB800\t\t136002.118\t\t2716\t\t2KX8\t\t0-7\n",
    "136002-119\tL/M1\t\tPROGRAM EPROM\tC000\t\t136002.119\t\t2716\t\t2KX8\t\t0-7\n",
    "136002-120\tN1\t\tPROGRAM EPROM\tC800\t\t136002.120\t\t2716\t\t2KX8\t\t0-7\n",
    "136002-121\tP1\t\tPROGRAM EPROM\tD000\t\t136002.121\t\t2716\t\t2KX8\t\t0-7\n",
    "136002-122\tR1\t\tPROGRAM EPROM\tD800\t\t136002.122\t\t2716\t\t2KX8\t\t0-7\n",
    "\n",
    "\t\t\t\t\t\t    MASK\n",
    "136002-125\tD7\t\tV.G.STATE ROM\t1000(0F)*\tSTATE2.SAV\t\t82S129\t\t256X4\t\t0-3\n",
    "\n",
    "\t\t\t\t\t\t    MASK\n",
    "136002-132\tL1(AUX)\t\tMICRO. PROM\t6800(F0)*\t136002.1XX\t\t82S129\t\t256X4\t\t4-7 *\n",
    "136002-131\tK1\t\tMICRO. PROM\t6800(0F)*\t136002.1XX\t\t82S129\t\t256X4\t\t0-3\n",
    "136002-130\tJ1\t\tMICRO. PROM\t6900(F0)*\t136002.1XX\t\t82S129\t\t256X4\t\t4-7\n",
    "136002-129\tH1\t\tMICRO. PROM\t6900(0F)*\t136002.1XX\t\t82S129\t\t256X4\t\t0-3\n",
    "136002-128\tF1\t\tMICRO. PROM\t6A00(F0)*\t136002.1XX\t\t82S129\t\t256X4\t\t4-7\n",
    "136002-127\tE1\t\tMICRO. PROM\t6A00(0F)*\t136002.1XX\t\t82S129\t\t256X4\t\t0-3\n",
    "\n",
    "136002.126\tA1\t\tMAPPING PROM\t8400\t\t136002.1XX\t\t82S123\t\t32X8\t\t0-7\n",
    "```"
   ]
  },
  {
   "cell_type": "markdown",
   "id": "47dc1b90",
   "metadata": {},
   "source": [
    "This more or less corresponds with the equivalent information in [MAME's manifest](https://github.com/mamedev/mame/blob/master/src/mame/atari/tempest.cpp) for version 1:"
   ]
  },
  {
   "cell_type": "markdown",
   "id": "719b1403",
   "metadata": {},
   "source": [
    "```cpp\n",
    "ROM_START( tempest1 ) /* rev 1 */\n",
    "\t/* Roms are for Tempest Analog Vector-Generator PCB Assembly A037383-01 or A037383-02 */\n",
    "\tROM_REGION( 0x10000, \"maincpu\", 0 )\n",
    "\tROM_LOAD( \"136002-113.d1\",   0x9000, 0x0800, CRC(65d61fe7) SHA1(38a1e8a8f65b7887cf3e190269fe4ce2c6f818aa) )\n",
    "\tROM_LOAD( \"136002-114.e1\",   0x9800, 0x0800, CRC(11077375) SHA1(ed8ff0ca969da6672a7683b93d4fcf2935a0d903) )\n",
    "\tROM_LOAD( \"136002-115.f1\",   0xa000, 0x0800, CRC(f3e2827a) SHA1(bd04fcfbbba995e08c3144c1474fcddaaeb1c700) )\n",
    "\tROM_LOAD( \"136002-116.h1\",   0xa800, 0x0800, CRC(7356896c) SHA1(a013ede292189a8f5a907de882ee1a573d784b3c) )\n",
    "\tROM_LOAD( \"136002-117.j1\",   0xb000, 0x0800, CRC(55952119) SHA1(470d914fa52fce3786cb6330889876d3547dca65) )\n",
    "\tROM_LOAD( \"136002-118.k1\",   0xb800, 0x0800, CRC(beb352ab) SHA1(f213166d3970e0bd0f29d8dea8d6afa6990cce38) )\n",
    "\tROM_LOAD( \"136002-119.lm1\",  0xc000, 0x0800, CRC(a4de050f) SHA1(ea302e43a313a5a18115e74ddbaaedde0fbecda7) )\n",
    "\tROM_LOAD( \"136002-120.mn1\",  0xc800, 0x0800, CRC(35619648) SHA1(48f1e8bed7ec6afa0b4c549a30e5ec331c071e40) )\n",
    "\tROM_LOAD( \"136002-121.p1\",   0xd000, 0x0800, CRC(73d38e47) SHA1(9980606376a79ba94f8e2a325871a6c8d10d83fc) )\n",
    "\tROM_LOAD( \"136002-122.r1\",   0xd800, 0x0800, CRC(796a9918) SHA1(c862a0d4ea330161e4c3cc8e5e9ad38893fffbd4) )\n",
    "\tROM_RELOAD(                  0xf800, 0x0800 ) /* for reset/interrupt vectors */\n",
    "\n",
    "\t/* Vector ROM */\n",
    "\tROM_REGION( 0x1000, \"vectorrom\", 0 )\n",
    "\tROM_LOAD( \"136002-123.np3\",  0x0000, 0x0800, CRC(29f7e937) SHA1(686c8b9b8901262e743497cee7f2f7dd5cb3af7e) ) /* May be labeled \"136002-111\", same data */\n",
    "\tROM_LOAD( \"136002-124.r3\",   0x0800, 0x0800, CRC(c16ec351) SHA1(a30a3662c740810c0f20e3712679606921b8ca06) ) /* May be labeled \"136002-112\", same data */\n",
    "\n",
    "\t/* AVG PROM */\n",
    "\tROM_REGION( 0x100, \"avg:prom\", 0 )\n",
    "\tROM_LOAD( \"136002-125.d7\",   0x0000, 0x0100, CRC(5903af03) SHA1(24bc0366f394ad0ec486919212e38be0f08d0239) )\n",
    "\n",
    "\t/* Mathbox PROMs */\n",
    "\tROM_REGION( 0x20, \"user2\", 0 )\n",
    "\tROM_LOAD( \"136002-126.a1\",   0x0000, 0x0020, CRC(8b04f921) SHA1(317b3397482f13b2d1bc21f296d3b3f9a118787b) )\n",
    "\n",
    "\tROM_REGION32_BE( 0x400, \"user3\", 0 )\n",
    "\tROMX_LOAD( \"136002-132.l1\", 0, 0x100, CRC(2af82e87) SHA1(3816835a9ccf99a76d246adf204989d9261bb065), ROM_NIBBLE | ROM_SHIFT_NIBBLE_LO | ROM_SKIP(3))\n",
    "\tROMX_LOAD( \"136002-131.k1\", 0, 0x100, CRC(b31f6e24) SHA1(ce5f8ca34d06a5cfa0076b47400e61e0130ffe74), ROM_NIBBLE | ROM_SHIFT_NIBBLE_HI | ROM_SKIP(3))\n",
    "\tROMX_LOAD( \"136002-130.j1\", 1, 0x100, CRC(8119b847) SHA1(c4fbaedd4ce1ad6a4128cbe902b297743edb606a), ROM_NIBBLE | ROM_SHIFT_NIBBLE_LO | ROM_SKIP(3))\n",
    "\tROMX_LOAD( \"136002-129.h1\", 1, 0x100, CRC(09f5a4d5) SHA1(d6f2ac07ca9ee385c08831098b0dcaf56808993b), ROM_NIBBLE | ROM_SHIFT_NIBBLE_HI | ROM_SKIP(3))\n",
    "\tROMX_LOAD( \"136002-128.f1\", 2, 0x100, CRC(823b61ae) SHA1(d99a839874b45f64e14dae92a036e47a53705d16), ROM_NIBBLE | ROM_SHIFT_NIBBLE_LO | ROM_SKIP(3))\n",
    "\tROMX_LOAD( \"136002-127.e1\", 2, 0x100, CRC(276eadd5) SHA1(55718cd8ec4bcf75076d5ef0ee1ed2551e19d9ba), ROM_NIBBLE | ROM_SHIFT_NIBBLE_HI | ROM_SKIP(3))\n",
    "ROM_END\n",
    "```"
   ]
  },
  {
   "cell_type": "markdown",
   "id": "bdbc8a4d",
   "metadata": {},
   "source": [
    "So using the information above we can generate rom files using the content of the `output_bytes` array we constructed from parsing the data blocks in `TEMPST.LDA`. All we need to do is use the addresses and lengths given in the Tempest documentation:"
   ]
  },
  {
   "cell_type": "code",
   "execution_count": 157,
   "id": "828e5c2b",
   "metadata": {},
   "outputs": [
    {
     "data": {
      "text/plain": [
       "2048"
      ]
     },
     "execution_count": 157,
     "metadata": {},
     "output_type": "execute_result"
    }
   ],
   "source": [
    "OUT_DIR = \"TEMPST.LDA\"\n",
    "open(f\"{OUT_DIR}/tempest/136002-111.d1\",'wb').write(bytes(output_bytes[0x3000:0x3800]))\n",
    "open(f\"{OUT_DIR}/tempest/136002-123.np3\",'wb').write(bytes(output_bytes[0x3000:0x3800]))\n",
    "open(f\"{OUT_DIR}/tempest/136002-112.d1\",'wb').write(bytes(output_bytes[0x3800:0x4000]))\n",
    "open(f\"{OUT_DIR}/tempest/136002-124.r3\",'wb').write(bytes(output_bytes[0x3800:0x4000]))\n",
    "\n",
    "open(f\"{OUT_DIR}/tempest/136002-113.d1\",'wb').write(bytes(output_bytes[0x9000:0x9800]))\n",
    "open(f\"{OUT_DIR}/tempest/136002-114.e1\",'wb').write(bytes(output_bytes[0x9800:0xA000]))\n",
    "open(f\"{OUT_DIR}/tempest/136002-115.f1\",'wb').write(bytes(output_bytes[0xA000:0xA800]))\n",
    "open(f\"{OUT_DIR}/tempest/136002-116.h1\",'wb').write(bytes(output_bytes[0xA800:0xB000]))\n",
    "open(f\"{OUT_DIR}/tempest/136002-117.j1\",'wb').write(bytes(output_bytes[0xB000:0xB800]))\n",
    "open(f\"{OUT_DIR}/tempest/136002-118.k1\",'wb').write(bytes(output_bytes[0xB800:0xC000]))\n",
    "open(f\"{OUT_DIR}/tempest/136002-119.lm1\",'wb').write(bytes(output_bytes[0xC000:0xC800]))\n",
    "open(f\"{OUT_DIR}/tempest/136002-120.mn1\",'wb').write(bytes(output_bytes[0xC800:0xD000]))\n",
    "open(f\"{OUT_DIR}/tempest/136002-121.p1\",'wb').write(bytes(output_bytes[0xD000:0xD800]))\n",
    "open(f\"{OUT_DIR}/tempest/136002-122.r1\",'wb').write(bytes(output_bytes[0xD800:0xE000]))"
   ]
  },
  {
   "cell_type": "markdown",
   "id": "0df28e97",
   "metadata": {},
   "source": [
    "We do the same with `MBOX.SAV`. We don't need to do any parsing of this file. We can just extract the bytes more or less directly from it and write to the appropriate ROM File."
   ]
  },
  {
   "cell_type": "code",
   "execution_count": 158,
   "id": "ab956d81",
   "metadata": {},
   "outputs": [
    {
     "data": {
      "text/plain": [
       "256"
      ]
     },
     "execution_count": 158,
     "metadata": {},
     "output_type": "execute_result"
    }
   ],
   "source": [
    "mathbox_bytes = open(\"tempest/MBOX.SAV\",'rb').read()\n",
    "open(f\"{OUT_DIR}/tempest/136002-126.a1\",'wb').write(mathbox_bytes[0x8400:0x8420])\n",
    "# 136002-127.e1 contains the low 4 bits of each byte in 0x6A00:0x6B00 in MBOX.SAV\n",
    "open(f\"{OUT_DIR}/tempest/136002-127.e1\",'wb').write(bytes([a & 0x0F for a in mathbox_bytes[0x6A00:0x6B00]]))\n",
    "# 136002-128.f1 contains the high 4 bits (right-shifted) of each byte in 0x6A00:0x6B00 in MBOX.SAV\n",
    "open(f\"{OUT_DIR}/tempest/136002-128.f1\",'wb').write(bytes([(a & 0xF0) >> 4 for a in mathbox_bytes[0x6A00:0x6B00]]))\n",
    "\n",
    "# 136002-129.h1 contains the low 4 bits of each byte in 0x6900:0x6A00 in MBOX.SAV\n",
    "open(f\"{OUT_DIR}/tempest/136002-129.h1\",'wb').write(bytes([a & 0x0F for a in mathbox_bytes[0x6900:0x6A00]]))\n",
    "# 136002-130.j1 contains the high 4 bits (right-shifted) of each byte in 0x6900:0x6A00 in MBOX.SAV\n",
    "open(f\"{OUT_DIR}/tempest/136002-130.j1\",'wb').write(bytes([(a & 0xF0) >> 4 for a in mathbox_bytes[0x6900:0x6A00]]))\n",
    "\n",
    "# 136002-131.k1 contains the low 4 bits of each byte in 0x6800:0x6900 in MBOX.SAV\n",
    "open(f\"{OUT_DIR}/tempest/136002-131.k1\",'wb').write(bytes([a & 0x0F for a in mathbox_bytes[0x6800:0x6900]]))\n",
    "# 136002-132.l1 contains the high 4 bits (right-shifted) of each byte in 0x6800:0x6900 in MBOX.SAV\n",
    "open(f\"{OUT_DIR}/tempest/136002-132.l1\",'wb').write(bytes([(a & 0xF0) >> 4 for a in mathbox_bytes[0x6800:0x6900]]))\n"
   ]
  },
  {
   "cell_type": "markdown",
   "id": "4ca94634",
   "metadata": {},
   "source": [
    "And finally we extract the relevant bytes from `STATE2.SAV`:"
   ]
  },
  {
   "cell_type": "code",
   "execution_count": 159,
   "id": "83bf5740",
   "metadata": {},
   "outputs": [
    {
     "data": {
      "text/plain": [
       "256"
      ]
     },
     "execution_count": 159,
     "metadata": {},
     "output_type": "execute_result"
    }
   ],
   "source": [
    "vecgen_bytes = open(\"tempest/STATE2.SAV\",'rb').read()\n",
    "open(f\"{OUT_DIR}/tempest/136002-125.d7\",'wb').write(vecgen_bytes[0x1000:0x1100])"
   ]
  },
  {
   "cell_type": "markdown",
   "id": "8567e1c5",
   "metadata": {},
   "source": [
    "Now we can run `mame` with the ROMS we've generated. If you haven't already you will need to install mame like so:\n",
    "```\n",
    "sudo apt install mame\n",
    "```"
   ]
  },
  {
   "cell_type": "code",
   "execution_count": 162,
   "id": "bf1890aa",
   "metadata": {},
   "outputs": [
    {
     "name": "stdout",
     "output_type": "stream",
     "text": [
      "Unable to find the BGFX path bgfx, please install it or fix the bgfx_path setting to use the BGFX renderer.\r\n"
     ]
    }
   ],
   "source": [
    "!mame -window -rompath ./TEMPST.LDA/ tempest1"
   ]
  },
  {
   "cell_type": "markdown",
   "id": "34131812",
   "metadata": {},
   "source": [
    "It works. And it doesn't give us any checksum warnings, which means the ROMs we generated are byte for byte identical to the ones expected of the first version of Tempest."
   ]
  },
  {
   "cell_type": "markdown",
   "id": "2c4b05d6",
   "metadata": {},
   "source": [
    "## Generate ROMs for Tempest Version 2A (Alt)"
   ]
  },
  {
   "cell_type": "markdown",
   "id": "b4542247",
   "metadata": {},
   "source": [
    "The other object file in the source dump is `ALEXEC.LDA`."
   ]
  },
  {
   "cell_type": "code",
   "execution_count": 165,
   "id": "c01e8276",
   "metadata": {},
   "outputs": [],
   "source": [
    "output_bytes = parse_lda_file(\"tempest/ALEXEC.LDA\")"
   ]
  },
  {
   "cell_type": "markdown",
   "id": "08cbe165",
   "metadata": {},
   "source": [
    "The manifest for Version 2A (alt) in `TEMPST.DOC` tells us what ROM names to use. "
   ]
  },
  {
   "cell_type": "markdown",
   "id": "048a467d",
   "metadata": {},
   "source": [
    "\n",
    "```\n",
    "Project #:  28903\t\t\tProject Programmer:  Dave Theurer\t\tProject Leader:  Morgan Hoff\n",
    "\n",
    "Documentation Disk(s): 36A,36B,36C\t\tProject Name:  Tempest\t\t\tDate:  12-17-81\t\tVersion: 2A (alt)\n",
    "\n",
    "\n",
    "Verification control filename: 002X2.DAT\tVerification file: ALEXEC.LDA\n",
    "\n",
    "\n",
    "Part #\t\tPCB Loc.\tDescription\t\tStart Addr\tGeneric name\tPart Size\tBits Used\n",
    "------\t\t--------\t-----------\t\t----------\t------------\t---------\t---------\t\n",
    "\n",
    "136002-138\tN/P3\t\tVG EROM\t\t\t3000\t\t2532\t\t4KX8\t\t7->0\t\t\t\t\n",
    "\n",
    "136002-237\tP1\t\tPROGRAM EROM\t\t9000\t\t2532\t\t4KX8\t\t7->0\n",
    "136002-136\tL/M1\t\tPROGRAM EROM\t\tA000\t\t2532\t\t4KX8\t\t7->0\n",
    "136002-235\tJ1\t\tPROGRAM EROM\t\tB000\t\t2532\t\t4KX8\t\t7->0\n",
    "136002-134\tF1\t\tPROGRAM EROM\t\tC000\t\t2532\t\t4KX8\t\t7->0\n",
    "136002-133\tD1\t\tPROGRAM EROM\t\tD000\t\t2532\t\t4KX8\t\t7->0\n",
    "\t\t\t\t(ind. self test)\n",
    "\n",
    "\n",
    "General Information:\n",
    "--------------------\n",
    "\n",
    "Assembler used:  MAC65\n",
    "\n",
    "Main program source files:\n",
    "\tIncludes:  ALCOMN, HLL65, COIN65, VGMC, ANVGAN\n",
    "\tFiles:  ALWELG,ALSCO2,ALDIS2,ALEXEC,ALSOUN,ALVROM,ALCOIN,ALLANG,ALHAR2,ALTES2,ALEARO,ALVGUT\n",
    "\n",
    "Picture file:\n",
    "\n",
    "Linker used:  LINKM\n",
    "\n",
    "Linker command:  ALEXEC/L,ALEXEC/A=ALWELG,ALSCO2,ALDIS2,ALEXEC,ALSOUN,ALVROM,ALCOIN,ALLANG,ALHAR2,ALTES2,ALEARO,ALVGUT\n",
    "```\n"
   ]
  },
  {
   "cell_type": "markdown",
   "id": "2245187a",
   "metadata": {},
   "source": [
    "The corresponding entry in Mame's manifest given as 'Rev 3'. It is the 'last' release of Tempest so is given simply as `tempest`. Notice that the addresses for the ROMs are reversed in the Mame entry. `136002-133.d1` is loaded to `0x9000` rather than `0xD000` as specified by the Atari version control doc above."
   ]
  },
  {
   "cell_type": "markdown",
   "id": "d386fcbf",
   "metadata": {},
   "source": [
    "```cpp\n",
    "ROM_START( tempest ) /* rev 3 */\n",
    "\t/* Roms are for Tempest Analog Vector-Generator PCB Assembly A037383-03 or A037383-04 */\n",
    "\tROM_REGION( 0x10000, \"maincpu\", 0 )\n",
    "\tROM_LOAD( \"136002-133.d1\",  0x9000, 0x1000, CRC(1d0cc503) SHA1(7bef95db9b1102d6b1166bda0ccb276ef4cc3764) ) /* 136002-113 + 136002-114 */\n",
    "\tROM_LOAD( \"136002-134.f1\",  0xa000, 0x1000, CRC(c88e3524) SHA1(89144baf1efc703b2336774793ce345b37829ee7) ) /* 136002-115 + 136002-316 */\n",
    "\tROM_LOAD( \"136002-235.j1\",  0xb000, 0x1000, CRC(a4b2ce3f) SHA1(a5f5fb630a48c5d25346f90d4c13aaa98f60b228) ) /* 136002-217 + 136002-118 */\n",
    "\tROM_LOAD( \"136002-136.lm1\", 0xc000, 0x1000, CRC(65a9a9f9) SHA1(73aa7d6f4e7093ccb2d97f6344f354872bcfd72a) ) /* 136002-119 + 136002-120 */\n",
    "\tROM_LOAD( \"136002-237.p1\",  0xd000, 0x1000, CRC(de4e9e34) SHA1(04be074e45bf5cd95a852af97cd04e35b7f27fc4) ) /* 136002-121 + 136002-222 */\n",
    "\tROM_RELOAD(                 0xf000, 0x1000 ) /* for reset/interrupt vectors */\n",
    "\n",
    "\t/* Vector ROM */\n",
    "\tROM_REGION( 0x1000, \"vectorrom\", 0 )\n",
    "\tROM_LOAD( \"136002-138.np3\", 0x0000, 0x1000, CRC(9995256d) SHA1(2b725ee1a57d423c7d7377a1744f48412e0f2f69) )\n",
    "\n",
    "\t/* AVG PROM */\n",
    "\tROM_REGION( 0x100, \"avg:prom\", 0 )\n",
    "\tROM_LOAD( \"136002-125.d7\",   0x0000, 0x0100, CRC(5903af03) SHA1(24bc0366f394ad0ec486919212e38be0f08d0239) )\n",
    "\n",
    "\t/* Mathbox PROMs */\n",
    "\tROM_REGION( 0x20, \"user2\", 0 )\n",
    "\tROM_LOAD( \"136002-126.a1\",   0x0000, 0x0020, CRC(8b04f921) SHA1(317b3397482f13b2d1bc21f296d3b3f9a118787b) )\n",
    "\n",
    "\tROM_REGION32_BE( 0x400, \"user3\", 0 )\n",
    "\tROMX_LOAD( \"136002-132.l1\", 0, 0x100, CRC(2af82e87) SHA1(3816835a9ccf99a76d246adf204989d9261bb065), ROM_NIBBLE | ROM_SHIFT_NIBBLE_LO | ROM_SKIP(3))\n",
    "\tROMX_LOAD( \"136002-131.k1\", 0, 0x100, CRC(b31f6e24) SHA1(ce5f8ca34d06a5cfa0076b47400e61e0130ffe74), ROM_NIBBLE | ROM_SHIFT_NIBBLE_HI | ROM_SKIP(3))\n",
    "\tROMX_LOAD( \"136002-130.j1\", 1, 0x100, CRC(8119b847) SHA1(c4fbaedd4ce1ad6a4128cbe902b297743edb606a), ROM_NIBBLE | ROM_SHIFT_NIBBLE_LO | ROM_SKIP(3))\n",
    "\tROMX_LOAD( \"136002-129.h1\", 1, 0x100, CRC(09f5a4d5) SHA1(d6f2ac07ca9ee385c08831098b0dcaf56808993b), ROM_NIBBLE | ROM_SHIFT_NIBBLE_HI | ROM_SKIP(3))\n",
    "\tROMX_LOAD( \"136002-128.f1\", 2, 0x100, CRC(823b61ae) SHA1(d99a839874b45f64e14dae92a036e47a53705d16), ROM_NIBBLE | ROM_SHIFT_NIBBLE_LO | ROM_SKIP(3))\n",
    "\tROMX_LOAD( \"136002-127.e1\", 2, 0x100, CRC(276eadd5) SHA1(55718cd8ec4bcf75076d5ef0ee1ed2551e19d9ba), ROM_NIBBLE | ROM_SHIFT_NIBBLE_HI | ROM_SKIP(3))\n",
    "ROM_END\n",
    "```"
   ]
  },
  {
   "cell_type": "code",
   "execution_count": 145,
   "id": "20edbe3a",
   "metadata": {},
   "outputs": [
    {
     "data": {
      "text/plain": [
       "4096"
      ]
     },
     "execution_count": 145,
     "metadata": {},
     "output_type": "execute_result"
    }
   ],
   "source": [
    "OUT_DIR=\"ALEXEC.LDA/tempest/\"\n",
    "\n",
    "open(f\"{OUT_DIR}136002-123.np3\",'wb').write(bytes(output_bytes[0x3000:0x3800]))\n",
    "open(f\"{OUT_DIR}136002-124.r3\",'wb').write(bytes(output_bytes[0x3800:0x4000]))\n",
    "\n",
    "open(f\"{OUT_DIR}136002-138.np3\",'wb').write(bytes(output_bytes[0x3000:0x4000]))\n",
    "\n",
    "# Notice we have the addresses in reverse order, e.g. 136002-237 is written to 0xD000 rather\n",
    "# than 0x9000.\n",
    "open(f\"{OUT_DIR}136002-237.p1\",'wb').write(bytes(output_bytes[0xD000:0xE000]))\n",
    "open(f\"{OUT_DIR}136002-136.lm1\",'wb').write(bytes(output_bytes[0xC000:0xD000]))\n",
    "open(f\"{OUT_DIR}136002-235.j1\",'wb').write(bytes(output_bytes[0xB000:0xC000]))\n",
    "open(f\"{OUT_DIR}136002-134.f1\",'wb').write(bytes(output_bytes[0xA000:0xB000]))\n",
    "open(f\"{OUT_DIR}136002-133.d1\",'wb').write(bytes(output_bytes[0x9000:0xA000]))\n"
   ]
  },
  {
   "cell_type": "markdown",
   "id": "dfeaf63b",
   "metadata": {},
   "source": [
    "As with version 1 we need the mathbox and vector generator ROMs. They're unchanged, so we just copy them in again."
   ]
  },
  {
   "cell_type": "code",
   "execution_count": 146,
   "id": "43127ed5",
   "metadata": {},
   "outputs": [
    {
     "data": {
      "text/plain": [
       "256"
      ]
     },
     "execution_count": 146,
     "metadata": {},
     "output_type": "execute_result"
    }
   ],
   "source": [
    "mathbox_bytes = open(\"tempest/MBOX.SAV\",'rb').read()\n",
    "open(f\"{OUT_DIR}/136002-126.a1\",'wb').write(mathbox_bytes[0x8400:0x8420])\n",
    "# 136002-127.e1 contains the low 4 bits of each byte in 0x6A00:0x6B00 in MBOX.SAV\n",
    "open(f\"{OUT_DIR}/136002-127.e1\",'wb').write(bytes([a & 0x0F for a in mathbox_bytes[0x6A00:0x6B00]]))\n",
    "# 136002-128.f1 contains the high 4 bits (right-shifted) of each byte in 0x6A00:0x6B00 in MBOX.SAV\n",
    "open(f\"{OUT_DIR}/136002-128.f1\",'wb').write(bytes([(a & 0xF0) >> 4 for a in mathbox_bytes[0x6A00:0x6B00]]))\n",
    "\n",
    "# 136002-129.h1 contains the low 4 bits of each byte in 0x6900:0x6A00 in MBOX.SAV\n",
    "open(f\"{OUT_DIR}/136002-129.h1\",'wb').write(bytes([a & 0x0F for a in mathbox_bytes[0x6900:0x6A00]]))\n",
    "# 136002-130.j1 contains the high 4 bits (right-shifted) of each byte in 0x6900:0x6A00 in MBOX.SAV\n",
    "open(f\"{OUT_DIR}/136002-130.j1\",'wb').write(bytes([(a & 0xF0) >> 4 for a in mathbox_bytes[0x6900:0x6A00]]))\n",
    "\n",
    "# 136002-131.k1 contains the low 4 bits of each byte in 0x6800:0x6900 in MBOX.SAV\n",
    "open(f\"{OUT_DIR}/136002-131.k1\",'wb').write(bytes([a & 0x0F for a in mathbox_bytes[0x6800:0x6900]]))\n",
    "# 136002-132.l1 contains the high 4 bits (right-shifted) of each byte in 0x6800:0x6900 in MBOX.SAV\n",
    "open(f\"{OUT_DIR}/136002-132.l1\",'wb').write(bytes([(a & 0xF0) >> 4 for a in mathbox_bytes[0x6800:0x6900]]))\n"
   ]
  },
  {
   "cell_type": "code",
   "execution_count": 147,
   "id": "64cc584c",
   "metadata": {},
   "outputs": [
    {
     "data": {
      "text/plain": [
       "256"
      ]
     },
     "execution_count": 147,
     "metadata": {},
     "output_type": "execute_result"
    }
   ],
   "source": [
    "vecgen_bytes = open(\"tempest/STATE2.SAV\",'rb').read()\n",
    "open(f\"{OUT_DIR}/136002-125.d7\",'wb').write(vecgen_bytes[0x1000:0x1100])"
   ]
  },
  {
   "cell_type": "markdown",
   "id": "4f2202ed",
   "metadata": {},
   "source": [
    "Now let's see if it works:"
   ]
  },
  {
   "cell_type": "code",
   "execution_count": 163,
   "id": "aba65193",
   "metadata": {},
   "outputs": [
    {
     "name": "stdout",
     "output_type": "stream",
     "text": [
      "Unable to find the BGFX path bgfx, please install it or fix the bgfx_path setting to use the BGFX renderer.\n",
      "Average speed: 99.99% (2 seconds)\n"
     ]
    }
   ],
   "source": [
    "!mame -window -rompath ./ALEXEC.LDA/ tempest"
   ]
  },
  {
   "cell_type": "markdown",
   "id": "ab62a469",
   "metadata": {},
   "source": [
    "It works - and we don't get any checksum errors. So `ALEXEC.LDA` contains the binary data for 'Revision 3', but is given as 2A(Alt) in Tempest's project documentation."
   ]
  },
  {
   "cell_type": "code",
   "execution_count": null,
   "id": "c3254fd7",
   "metadata": {},
   "outputs": [],
   "source": [
    "\n",
    "\n",
    "\n",
    "\n",
    "\n",
    "\n",
    "\n",
    "\n",
    "\n",
    "\n",
    "\n",
    "\n",
    "\n",
    "\n",
    "\n",
    "\n",
    "\n",
    "\n",
    "\n",
    "\n",
    "\n"
   ]
  }
 ],
 "metadata": {
  "kernelspec": {
   "display_name": "Python 3 (ipykernel)",
   "language": "python",
   "name": "python3"
  },
  "language_info": {
   "codemirror_mode": {
    "name": "ipython",
    "version": 3
   },
   "file_extension": ".py",
   "mimetype": "text/x-python",
   "name": "python",
   "nbconvert_exporter": "python",
   "pygments_lexer": "ipython3",
   "version": "3.10.12"
  }
 },
 "nbformat": 4,
 "nbformat_minor": 5
}
