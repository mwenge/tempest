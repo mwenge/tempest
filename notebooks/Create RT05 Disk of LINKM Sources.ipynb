{
 "cells": [
  {
   "cell_type": "markdown",
   "id": "de5020bd",
   "metadata": {},
   "source": [
    "# Create RT05 Disk of LINKM Sources"
   ]
  },
  {
   "cell_type": "code",
   "execution_count": 2,
   "id": "1aad6e9b",
   "metadata": {},
   "outputs": [
    {
     "data": {
      "text/html": [
       "<style>.container { width:60% !important; }</style>"
      ],
      "text/plain": [
       "<IPython.core.display.HTML object>"
      ]
     },
     "metadata": {},
     "output_type": "display_data"
    }
   ],
   "source": [
    "from IPython.display import display, HTML\n",
    "display(HTML(\"<style>.container { width:60% !important; }</style>\"))"
   ]
  },
  {
   "cell_type": "code",
   "execution_count": 1,
   "id": "5bb96532",
   "metadata": {},
   "outputs": [],
   "source": [
    "from rt11_utils import extract_files_from_disk\n",
    "extract_files_from_disk(\"linkm.rx01\",\"linkm_src\")"
   ]
  },
  {
   "cell_type": "code",
   "execution_count": 4,
   "id": "2b8af5e3",
   "metadata": {},
   "outputs": [],
   "source": [
    "from rt11_utils import create_disk_from_files\n",
    "create_disk_from_files(\"linkm_src\", \"linkm.rk05\")\n",
    "!cp linkm.rk05 ../atari_build/"
   ]
  },
  {
   "cell_type": "markdown",
   "id": "a862694e",
   "metadata": {},
   "source": [
    "```\n",
    "R MACRO\n",
    "RK1:LINK0=RK1:LINK0\n",
    "RK1:LNKOV1=RK1:LNKOV1\n",
    "RK1:LNKOV2=RK1:LNKOV2\n",
    "RK1:LNKOV3=RK1:LNKOV3\n",
    "RK1:LNKOV4=RK1:LNKOV4\n",
    "```"
   ]
  },
  {
   "cell_type": "markdown",
   "id": "08f4b727",
   "metadata": {},
   "source": [
    "```\n",
    "R LINK\n",
    "RK1:LINKM,LNKLNK.LST=RK1:LINK0/C\n",
    "RK1:LNKOV1/O:1/C\n",
    "RK1:LNKOV2/O:1/C\n",
    "RK1:LNKOV3/O:1/C\n",
    "RK1:LNKOV4/O:1\n",
    "```\n"
   ]
  },
  {
   "cell_type": "code",
   "execution_count": null,
   "id": "421a7725",
   "metadata": {},
   "outputs": [],
   "source": [
    "\n",
    "\n",
    "\n",
    "\n",
    "\n",
    "\n",
    "\n",
    "\n",
    "\n",
    "\n",
    "\n"
   ]
  }
 ],
 "metadata": {
  "kernelspec": {
   "display_name": "Python 3 (ipykernel)",
   "language": "python",
   "name": "python3"
  },
  "language_info": {
   "codemirror_mode": {
    "name": "ipython",
    "version": 3
   },
   "file_extension": ".py",
   "mimetype": "text/x-python",
   "name": "python",
   "nbconvert_exporter": "python",
   "pygments_lexer": "ipython3",
   "version": "3.10.12"
  }
 },
 "nbformat": 4,
 "nbformat_minor": 5
}
